{
 "cells": [
  {
   "cell_type": "markdown",
   "metadata": {},
   "source": [
    "# German Credit Risk"
   ]
  },
  {
   "cell_type": "markdown",
   "metadata": {},
   "source": [
    "## Acknowledgment\n",
    "### Source: UCI\n"
   ]
  },
  {
   "cell_type": "markdown",
   "metadata": {},
   "source": [
    "## Data Analysis & Preprocessing "
   ]
  },
  {
   "cell_type": "code",
   "execution_count": 1,
   "metadata": {
    "id": "OwdqQGP7MCzd"
   },
   "outputs": [],
   "source": [
    "#importing relevant libraries \n",
    "import numpy as np\n",
    "import pandas as pd\n",
    "import matplotlib.pyplot as plt\n",
    "%matplotlib inline \n",
    "import seaborn as sns"
   ]
  },
  {
   "cell_type": "code",
   "execution_count": 2,
   "metadata": {
    "id": "fTWAK2i8MCzp"
   },
   "outputs": [],
   "source": [
    "df = pd.read_csv('german data.csv') #reading csv file"
   ]
  },
  {
   "cell_type": "code",
   "execution_count": 3,
   "metadata": {
    "colab": {
     "base_uri": "https://localhost:8080/",
     "height": 206
    },
    "id": "31WEWPsaMCzq",
    "outputId": "3fe86a7e-e1d2-46be-bc7a-6642b5c2a25d"
   },
   "outputs": [
    {
     "data": {
      "text/html": [
       "<div>\n",
       "<style scoped>\n",
       "    .dataframe tbody tr th:only-of-type {\n",
       "        vertical-align: middle;\n",
       "    }\n",
       "\n",
       "    .dataframe tbody tr th {\n",
       "        vertical-align: top;\n",
       "    }\n",
       "\n",
       "    .dataframe thead th {\n",
       "        text-align: right;\n",
       "    }\n",
       "</style>\n",
       "<table border=\"1\" class=\"dataframe\">\n",
       "  <thead>\n",
       "    <tr style=\"text-align: right;\">\n",
       "      <th></th>\n",
       "      <th>A11</th>\n",
       "      <th>6</th>\n",
       "      <th>A34</th>\n",
       "      <th>A43</th>\n",
       "      <th>1169</th>\n",
       "      <th>A65</th>\n",
       "      <th>A75</th>\n",
       "      <th>4</th>\n",
       "      <th>A93</th>\n",
       "      <th>A101</th>\n",
       "      <th>...</th>\n",
       "      <th>A121</th>\n",
       "      <th>67</th>\n",
       "      <th>A143</th>\n",
       "      <th>A152</th>\n",
       "      <th>2</th>\n",
       "      <th>A173</th>\n",
       "      <th>1</th>\n",
       "      <th>A192</th>\n",
       "      <th>A201</th>\n",
       "      <th>1.1</th>\n",
       "    </tr>\n",
       "  </thead>\n",
       "  <tbody>\n",
       "    <tr>\n",
       "      <th>0</th>\n",
       "      <td>A12</td>\n",
       "      <td>48</td>\n",
       "      <td>A32</td>\n",
       "      <td>A43</td>\n",
       "      <td>5951</td>\n",
       "      <td>A61</td>\n",
       "      <td>A73</td>\n",
       "      <td>2</td>\n",
       "      <td>A92</td>\n",
       "      <td>A101</td>\n",
       "      <td>...</td>\n",
       "      <td>A121</td>\n",
       "      <td>22</td>\n",
       "      <td>A143</td>\n",
       "      <td>A152</td>\n",
       "      <td>1</td>\n",
       "      <td>A173</td>\n",
       "      <td>1</td>\n",
       "      <td>A191</td>\n",
       "      <td>A201</td>\n",
       "      <td>2</td>\n",
       "    </tr>\n",
       "    <tr>\n",
       "      <th>1</th>\n",
       "      <td>A14</td>\n",
       "      <td>12</td>\n",
       "      <td>A34</td>\n",
       "      <td>A46</td>\n",
       "      <td>2096</td>\n",
       "      <td>A61</td>\n",
       "      <td>A74</td>\n",
       "      <td>2</td>\n",
       "      <td>A93</td>\n",
       "      <td>A101</td>\n",
       "      <td>...</td>\n",
       "      <td>A121</td>\n",
       "      <td>49</td>\n",
       "      <td>A143</td>\n",
       "      <td>A152</td>\n",
       "      <td>1</td>\n",
       "      <td>A172</td>\n",
       "      <td>2</td>\n",
       "      <td>A191</td>\n",
       "      <td>A201</td>\n",
       "      <td>1</td>\n",
       "    </tr>\n",
       "    <tr>\n",
       "      <th>2</th>\n",
       "      <td>A11</td>\n",
       "      <td>42</td>\n",
       "      <td>A32</td>\n",
       "      <td>A42</td>\n",
       "      <td>7882</td>\n",
       "      <td>A61</td>\n",
       "      <td>A74</td>\n",
       "      <td>2</td>\n",
       "      <td>A93</td>\n",
       "      <td>A103</td>\n",
       "      <td>...</td>\n",
       "      <td>A122</td>\n",
       "      <td>45</td>\n",
       "      <td>A143</td>\n",
       "      <td>A153</td>\n",
       "      <td>1</td>\n",
       "      <td>A173</td>\n",
       "      <td>2</td>\n",
       "      <td>A191</td>\n",
       "      <td>A201</td>\n",
       "      <td>1</td>\n",
       "    </tr>\n",
       "    <tr>\n",
       "      <th>3</th>\n",
       "      <td>A11</td>\n",
       "      <td>24</td>\n",
       "      <td>A33</td>\n",
       "      <td>A40</td>\n",
       "      <td>4870</td>\n",
       "      <td>A61</td>\n",
       "      <td>A73</td>\n",
       "      <td>3</td>\n",
       "      <td>A93</td>\n",
       "      <td>A101</td>\n",
       "      <td>...</td>\n",
       "      <td>A124</td>\n",
       "      <td>53</td>\n",
       "      <td>A143</td>\n",
       "      <td>A153</td>\n",
       "      <td>2</td>\n",
       "      <td>A173</td>\n",
       "      <td>2</td>\n",
       "      <td>A191</td>\n",
       "      <td>A201</td>\n",
       "      <td>2</td>\n",
       "    </tr>\n",
       "    <tr>\n",
       "      <th>4</th>\n",
       "      <td>A14</td>\n",
       "      <td>36</td>\n",
       "      <td>A32</td>\n",
       "      <td>A46</td>\n",
       "      <td>9055</td>\n",
       "      <td>A65</td>\n",
       "      <td>A73</td>\n",
       "      <td>2</td>\n",
       "      <td>A93</td>\n",
       "      <td>A101</td>\n",
       "      <td>...</td>\n",
       "      <td>A124</td>\n",
       "      <td>35</td>\n",
       "      <td>A143</td>\n",
       "      <td>A153</td>\n",
       "      <td>1</td>\n",
       "      <td>A172</td>\n",
       "      <td>2</td>\n",
       "      <td>A192</td>\n",
       "      <td>A201</td>\n",
       "      <td>1</td>\n",
       "    </tr>\n",
       "  </tbody>\n",
       "</table>\n",
       "<p>5 rows × 21 columns</p>\n",
       "</div>"
      ],
      "text/plain": [
       "   A11   6  A34  A43  1169  A65  A75  4  A93  A101  ...  A121  67  A143  A152  \\\n",
       "0  A12  48  A32  A43  5951  A61  A73  2  A92  A101  ...  A121  22  A143  A152   \n",
       "1  A14  12  A34  A46  2096  A61  A74  2  A93  A101  ...  A121  49  A143  A152   \n",
       "2  A11  42  A32  A42  7882  A61  A74  2  A93  A103  ...  A122  45  A143  A153   \n",
       "3  A11  24  A33  A40  4870  A61  A73  3  A93  A101  ...  A124  53  A143  A153   \n",
       "4  A14  36  A32  A46  9055  A65  A73  2  A93  A101  ...  A124  35  A143  A153   \n",
       "\n",
       "   2  A173  1  A192  A201 1.1  \n",
       "0  1  A173  1  A191  A201   2  \n",
       "1  1  A172  2  A191  A201   1  \n",
       "2  1  A173  2  A191  A201   1  \n",
       "3  2  A173  2  A191  A201   2  \n",
       "4  1  A172  2  A192  A201   1  \n",
       "\n",
       "[5 rows x 21 columns]"
      ]
     },
     "execution_count": 3,
     "metadata": {},
     "output_type": "execute_result"
    }
   ],
   "source": [
    "df.head()"
   ]
  },
  {
   "cell_type": "markdown",
   "metadata": {},
   "source": [
    "The data is in this format, lets convert it to make it more readable"
   ]
  },
  {
   "cell_type": "code",
   "execution_count": 4,
   "metadata": {
    "id": "-pDON_xuMCzs"
   },
   "outputs": [],
   "source": [
    "#assigning column names\n",
    "df.columns = [\"checkAccount\",\"duration\", \"creditHistory\", \"purpose\", \"creditAmount\",\"savings\",\n",
    "             \"employedSince\",\"installmentRate\", \"statusSex\",\"otherDebtors\",\"residenceSince\",\n",
    "             \"property\",\"age\",\"otherInstallment\",\"housing\",\"existingCredits\",\"job\",\"liable\",\n",
    "              \"telephone\",\"foreign\",\"class\"]"
   ]
  },
  {
   "cell_type": "code",
   "execution_count": 5,
   "metadata": {
    "colab": {
     "base_uri": "https://localhost:8080/"
    },
    "id": "S8kq7De8MCzu",
    "outputId": "1525e81a-de55-420f-b827-5057015188e4"
   },
   "outputs": [
    {
     "data": {
      "text/plain": [
       "Index(['checkAccount', 'duration', 'creditHistory', 'purpose', 'creditAmount',\n",
       "       'savings', 'employedSince', 'installmentRate', 'statusSex',\n",
       "       'otherDebtors', 'residenceSince', 'property', 'age', 'otherInstallment',\n",
       "       'housing', 'existingCredits', 'job', 'liable', 'telephone', 'foreign',\n",
       "       'class'],\n",
       "      dtype='object')"
      ]
     },
     "execution_count": 5,
     "metadata": {},
     "output_type": "execute_result"
    }
   ],
   "source": [
    "df.columns"
   ]
  },
  {
   "cell_type": "code",
   "execution_count": 6,
   "metadata": {
    "id": "qj7ADsi2MCzu"
   },
   "outputs": [],
   "source": [
    "#mapping the data\n",
    "\n",
    "df[\"checkAccount\"] = df[\"checkAccount\"].map({'A14':\"0\",'A11':\"<0 DM\", 'A12': \"0 <= <200 DM\",\n",
    "                                                   'A13':\">= 200 DM \"})\n",
    "\n",
    "df[\"creditHistory\"] = df[\"creditHistory\"].map({\"A34\":\"critical account\",\"A33\":\"delay in paying off\",\n",
    "                                                     \"A32\":\"existing credits paid\",\n",
    "                                                     \"A31\":\"all credits at this bank paid back duly\",\n",
    "                                                     \"A30\":\"no credits taken\"})\n",
    "\n",
    "df[\"purpose\"] = df[\"purpose\"].map({ \"A40\": \"car-new\", \"A41\": \"car-used\", \"A42\": \"furniture\", \"A43\": \"television\",\n",
    "                                       \"A44\": \"domestic appliances\", \"A45\": \"repairs\", \"A46\": \"education\", \"A47\": \"vacation\",\n",
    "                                      \"A48\": \"retraining\", \"A49\": \"business\", \"A410\": \"others\"})\n",
    "\n",
    "df[\"savings\"] = df[\"savings\"].map({\"A65\" : \"no savings account\",\"A61\" :\"<100 DM\",\"A62\" : \"100 <= <500 DM\",\n",
    "                                                     \"A63\" :\"500 <= < 1000 DM\", \"A64\" :\">= 1000 DM\"})\n",
    "\n",
    "\n",
    "df[\"employedSince\"] = df[\"employedSince\"].map({'A75':\">=7 years\", 'A74':\"4<= <7 years\",  'A73':\"1<= < 4 years\", \n",
    "                                               'A72':\"<1 years\",'A71':\"unemployed\"})\n",
    "\n",
    "df['statusSex'] = df['statusSex'].map({\"A93\": \"male\", \"A92\": \"female\", \"A91\": \"male\", \"A94\": \"male\", \"A95\": \"female\"})\n",
    "\n",
    "df['otherDebtors'] = df['otherDebtors'].map({'A101':\"none\", 'A102':\"co-applicant\", 'A103':\"guarantor\"})\n",
    "\n",
    "\n",
    "df['property'] = df['property'].map({'A121':\"real estate\", 'A122':\"savings agreement/life insurance\", \n",
    "                                         'A123':\"car or other\", 'A124':\"unknown / no property\"})\n",
    "\n",
    "df['otherInstallment'] = df['otherInstallment'].map({'A143':\"none\", 'A142':\"store\", 'A141':\"bank\"})\n",
    "\n",
    "\n",
    "df[\"housing\"] = df[\"housing\"].map({\"A151\" : \"rent\", \"A152\" : \"own\", \"A153\" : \"for free\"})\n",
    "\n",
    "\n",
    "df[\"job\"] = df[\"job\"].map({'A174':\"management/ highly qualified employee\", 'A173':\"skilled employee / official\", \n",
    "                               'A172':\"unskilled - resident\", 'A171':\"unemployed/ unskilled  - non-resident\"})\n",
    "\n",
    "df[\"telephone\"] = df[\"telephone\"].map({'A192':\"yes\", 'A191':\"none\"})\n",
    "\n",
    "\n",
    "\n",
    "df[\"foreign\"] = df[\"foreign\"].map({'A201':\"yes\", 'A202':\"no\"})"
   ]
  },
  {
   "cell_type": "code",
   "execution_count": 7,
   "metadata": {
    "colab": {
     "base_uri": "https://localhost:8080/",
     "height": 383
    },
    "id": "Q8WI9BIgMCzw",
    "outputId": "1431ab6d-f569-4222-923d-d2036a16cb3d"
   },
   "outputs": [
    {
     "data": {
      "text/html": [
       "<div>\n",
       "<style scoped>\n",
       "    .dataframe tbody tr th:only-of-type {\n",
       "        vertical-align: middle;\n",
       "    }\n",
       "\n",
       "    .dataframe tbody tr th {\n",
       "        vertical-align: top;\n",
       "    }\n",
       "\n",
       "    .dataframe thead th {\n",
       "        text-align: right;\n",
       "    }\n",
       "</style>\n",
       "<table border=\"1\" class=\"dataframe\">\n",
       "  <thead>\n",
       "    <tr style=\"text-align: right;\">\n",
       "      <th></th>\n",
       "      <th>checkAccount</th>\n",
       "      <th>duration</th>\n",
       "      <th>creditHistory</th>\n",
       "      <th>purpose</th>\n",
       "      <th>creditAmount</th>\n",
       "      <th>savings</th>\n",
       "      <th>employedSince</th>\n",
       "      <th>installmentRate</th>\n",
       "      <th>statusSex</th>\n",
       "      <th>otherDebtors</th>\n",
       "      <th>...</th>\n",
       "      <th>property</th>\n",
       "      <th>age</th>\n",
       "      <th>otherInstallment</th>\n",
       "      <th>housing</th>\n",
       "      <th>existingCredits</th>\n",
       "      <th>job</th>\n",
       "      <th>liable</th>\n",
       "      <th>telephone</th>\n",
       "      <th>foreign</th>\n",
       "      <th>class</th>\n",
       "    </tr>\n",
       "  </thead>\n",
       "  <tbody>\n",
       "    <tr>\n",
       "      <th>0</th>\n",
       "      <td>0 &lt;= &lt;200 DM</td>\n",
       "      <td>48</td>\n",
       "      <td>existing credits paid</td>\n",
       "      <td>television</td>\n",
       "      <td>5951</td>\n",
       "      <td>&lt;100 DM</td>\n",
       "      <td>1&lt;= &lt; 4 years</td>\n",
       "      <td>2</td>\n",
       "      <td>female</td>\n",
       "      <td>none</td>\n",
       "      <td>...</td>\n",
       "      <td>real estate</td>\n",
       "      <td>22</td>\n",
       "      <td>none</td>\n",
       "      <td>own</td>\n",
       "      <td>1</td>\n",
       "      <td>skilled employee / official</td>\n",
       "      <td>1</td>\n",
       "      <td>none</td>\n",
       "      <td>yes</td>\n",
       "      <td>2</td>\n",
       "    </tr>\n",
       "    <tr>\n",
       "      <th>1</th>\n",
       "      <td>0</td>\n",
       "      <td>12</td>\n",
       "      <td>critical account</td>\n",
       "      <td>education</td>\n",
       "      <td>2096</td>\n",
       "      <td>&lt;100 DM</td>\n",
       "      <td>4&lt;= &lt;7 years</td>\n",
       "      <td>2</td>\n",
       "      <td>male</td>\n",
       "      <td>none</td>\n",
       "      <td>...</td>\n",
       "      <td>real estate</td>\n",
       "      <td>49</td>\n",
       "      <td>none</td>\n",
       "      <td>own</td>\n",
       "      <td>1</td>\n",
       "      <td>unskilled - resident</td>\n",
       "      <td>2</td>\n",
       "      <td>none</td>\n",
       "      <td>yes</td>\n",
       "      <td>1</td>\n",
       "    </tr>\n",
       "    <tr>\n",
       "      <th>2</th>\n",
       "      <td>&lt;0 DM</td>\n",
       "      <td>42</td>\n",
       "      <td>existing credits paid</td>\n",
       "      <td>furniture</td>\n",
       "      <td>7882</td>\n",
       "      <td>&lt;100 DM</td>\n",
       "      <td>4&lt;= &lt;7 years</td>\n",
       "      <td>2</td>\n",
       "      <td>male</td>\n",
       "      <td>guarantor</td>\n",
       "      <td>...</td>\n",
       "      <td>savings agreement/life insurance</td>\n",
       "      <td>45</td>\n",
       "      <td>none</td>\n",
       "      <td>for free</td>\n",
       "      <td>1</td>\n",
       "      <td>skilled employee / official</td>\n",
       "      <td>2</td>\n",
       "      <td>none</td>\n",
       "      <td>yes</td>\n",
       "      <td>1</td>\n",
       "    </tr>\n",
       "    <tr>\n",
       "      <th>3</th>\n",
       "      <td>&lt;0 DM</td>\n",
       "      <td>24</td>\n",
       "      <td>delay in paying off</td>\n",
       "      <td>car-new</td>\n",
       "      <td>4870</td>\n",
       "      <td>&lt;100 DM</td>\n",
       "      <td>1&lt;= &lt; 4 years</td>\n",
       "      <td>3</td>\n",
       "      <td>male</td>\n",
       "      <td>none</td>\n",
       "      <td>...</td>\n",
       "      <td>unknown / no property</td>\n",
       "      <td>53</td>\n",
       "      <td>none</td>\n",
       "      <td>for free</td>\n",
       "      <td>2</td>\n",
       "      <td>skilled employee / official</td>\n",
       "      <td>2</td>\n",
       "      <td>none</td>\n",
       "      <td>yes</td>\n",
       "      <td>2</td>\n",
       "    </tr>\n",
       "    <tr>\n",
       "      <th>4</th>\n",
       "      <td>0</td>\n",
       "      <td>36</td>\n",
       "      <td>existing credits paid</td>\n",
       "      <td>education</td>\n",
       "      <td>9055</td>\n",
       "      <td>no savings account</td>\n",
       "      <td>1&lt;= &lt; 4 years</td>\n",
       "      <td>2</td>\n",
       "      <td>male</td>\n",
       "      <td>none</td>\n",
       "      <td>...</td>\n",
       "      <td>unknown / no property</td>\n",
       "      <td>35</td>\n",
       "      <td>none</td>\n",
       "      <td>for free</td>\n",
       "      <td>1</td>\n",
       "      <td>unskilled - resident</td>\n",
       "      <td>2</td>\n",
       "      <td>yes</td>\n",
       "      <td>yes</td>\n",
       "      <td>1</td>\n",
       "    </tr>\n",
       "  </tbody>\n",
       "</table>\n",
       "<p>5 rows × 21 columns</p>\n",
       "</div>"
      ],
      "text/plain": [
       "   checkAccount  duration          creditHistory     purpose  creditAmount  \\\n",
       "0  0 <= <200 DM        48  existing credits paid  television          5951   \n",
       "1             0        12       critical account   education          2096   \n",
       "2         <0 DM        42  existing credits paid   furniture          7882   \n",
       "3         <0 DM        24    delay in paying off     car-new          4870   \n",
       "4             0        36  existing credits paid   education          9055   \n",
       "\n",
       "              savings  employedSince  installmentRate statusSex otherDebtors  \\\n",
       "0             <100 DM  1<= < 4 years                2    female         none   \n",
       "1             <100 DM   4<= <7 years                2      male         none   \n",
       "2             <100 DM   4<= <7 years                2      male    guarantor   \n",
       "3             <100 DM  1<= < 4 years                3      male         none   \n",
       "4  no savings account  1<= < 4 years                2      male         none   \n",
       "\n",
       "   ...                          property age  otherInstallment   housing  \\\n",
       "0  ...                       real estate  22              none       own   \n",
       "1  ...                       real estate  49              none       own   \n",
       "2  ...  savings agreement/life insurance  45              none  for free   \n",
       "3  ...             unknown / no property  53              none  for free   \n",
       "4  ...             unknown / no property  35              none  for free   \n",
       "\n",
       "  existingCredits                          job liable  telephone foreign class  \n",
       "0               1  skilled employee / official      1       none     yes     2  \n",
       "1               1         unskilled - resident      2       none     yes     1  \n",
       "2               1  skilled employee / official      2       none     yes     1  \n",
       "3               2  skilled employee / official      2       none     yes     2  \n",
       "4               1         unskilled - resident      2        yes     yes     1  \n",
       "\n",
       "[5 rows x 21 columns]"
      ]
     },
     "execution_count": 7,
     "metadata": {},
     "output_type": "execute_result"
    }
   ],
   "source": [
    "df.head()"
   ]
  },
  {
   "cell_type": "markdown",
   "metadata": {},
   "source": [
    "Our data has 13 categorical values and 7 integer values, including one output value, which is of integer data type."
   ]
  },
  {
   "cell_type": "code",
   "execution_count": 8,
   "metadata": {
    "colab": {
     "base_uri": "https://localhost:8080/"
    },
    "id": "-ewnyadwMCzx",
    "outputId": "0ea1adc5-7581-4b85-ef34-4f78b33f5888"
   },
   "outputs": [
    {
     "data": {
      "text/plain": [
       "checkAccount        object\n",
       "duration             int64\n",
       "creditHistory       object\n",
       "purpose             object\n",
       "creditAmount         int64\n",
       "savings             object\n",
       "employedSince       object\n",
       "installmentRate      int64\n",
       "statusSex           object\n",
       "otherDebtors        object\n",
       "residenceSince       int64\n",
       "property            object\n",
       "age                  int64\n",
       "otherInstallment    object\n",
       "housing             object\n",
       "existingCredits      int64\n",
       "job                 object\n",
       "liable               int64\n",
       "telephone           object\n",
       "foreign             object\n",
       "class                int64\n",
       "dtype: object"
      ]
     },
     "execution_count": 8,
     "metadata": {},
     "output_type": "execute_result"
    }
   ],
   "source": [
    "df.dtypes"
   ]
  },
  {
   "cell_type": "code",
   "execution_count": 9,
   "metadata": {
    "colab": {
     "base_uri": "https://localhost:8080/"
    },
    "id": "HhDhqT5FMCzy",
    "outputId": "3d70629e-955f-4c8d-b87c-8b9143d92400"
   },
   "outputs": [
    {
     "data": {
      "text/plain": [
       "object    13\n",
       "int64      8\n",
       "dtype: int64"
      ]
     },
     "execution_count": 9,
     "metadata": {},
     "output_type": "execute_result"
    }
   ],
   "source": [
    "df.dtypes.value_counts()"
   ]
  },
  {
   "cell_type": "code",
   "execution_count": 10,
   "metadata": {
    "colab": {
     "base_uri": "https://localhost:8080/"
    },
    "id": "7s6MEypwMCzz",
    "outputId": "d641296f-2b1b-4ec0-d0da-43fae6a7d297"
   },
   "outputs": [
    {
     "data": {
      "text/plain": [
       "(999, 21)"
      ]
     },
     "execution_count": 10,
     "metadata": {},
     "output_type": "execute_result"
    }
   ],
   "source": [
    "df.shape"
   ]
  },
  {
   "cell_type": "markdown",
   "metadata": {},
   "source": [
    "To detect outliers, we can look at the statistical information provided below:"
   ]
  },
  {
   "cell_type": "code",
   "execution_count": 11,
   "metadata": {
    "colab": {
     "base_uri": "https://localhost:8080/",
     "height": 300
    },
    "id": "g_XNH4muMCz0",
    "outputId": "90c8dcab-63e4-48bb-c50f-f1adafa1e751"
   },
   "outputs": [
    {
     "data": {
      "text/html": [
       "<div>\n",
       "<style scoped>\n",
       "    .dataframe tbody tr th:only-of-type {\n",
       "        vertical-align: middle;\n",
       "    }\n",
       "\n",
       "    .dataframe tbody tr th {\n",
       "        vertical-align: top;\n",
       "    }\n",
       "\n",
       "    .dataframe thead th {\n",
       "        text-align: right;\n",
       "    }\n",
       "</style>\n",
       "<table border=\"1\" class=\"dataframe\">\n",
       "  <thead>\n",
       "    <tr style=\"text-align: right;\">\n",
       "      <th></th>\n",
       "      <th>duration</th>\n",
       "      <th>creditAmount</th>\n",
       "      <th>installmentRate</th>\n",
       "      <th>residenceSince</th>\n",
       "      <th>age</th>\n",
       "      <th>existingCredits</th>\n",
       "      <th>liable</th>\n",
       "      <th>class</th>\n",
       "    </tr>\n",
       "  </thead>\n",
       "  <tbody>\n",
       "    <tr>\n",
       "      <th>count</th>\n",
       "      <td>999.000000</td>\n",
       "      <td>999.000000</td>\n",
       "      <td>999.000000</td>\n",
       "      <td>999.000000</td>\n",
       "      <td>999.000000</td>\n",
       "      <td>999.000000</td>\n",
       "      <td>999.000000</td>\n",
       "      <td>999.000000</td>\n",
       "    </tr>\n",
       "    <tr>\n",
       "      <th>mean</th>\n",
       "      <td>20.917918</td>\n",
       "      <td>3273.362362</td>\n",
       "      <td>2.971972</td>\n",
       "      <td>2.843844</td>\n",
       "      <td>35.514515</td>\n",
       "      <td>1.406406</td>\n",
       "      <td>1.155155</td>\n",
       "      <td>1.300300</td>\n",
       "    </tr>\n",
       "    <tr>\n",
       "      <th>std</th>\n",
       "      <td>12.055619</td>\n",
       "      <td>2823.365811</td>\n",
       "      <td>1.118802</td>\n",
       "      <td>1.103665</td>\n",
       "      <td>11.337487</td>\n",
       "      <td>0.577639</td>\n",
       "      <td>0.362234</td>\n",
       "      <td>0.458618</td>\n",
       "    </tr>\n",
       "    <tr>\n",
       "      <th>min</th>\n",
       "      <td>4.000000</td>\n",
       "      <td>250.000000</td>\n",
       "      <td>1.000000</td>\n",
       "      <td>1.000000</td>\n",
       "      <td>19.000000</td>\n",
       "      <td>1.000000</td>\n",
       "      <td>1.000000</td>\n",
       "      <td>1.000000</td>\n",
       "    </tr>\n",
       "    <tr>\n",
       "      <th>25%</th>\n",
       "      <td>12.000000</td>\n",
       "      <td>1368.500000</td>\n",
       "      <td>2.000000</td>\n",
       "      <td>2.000000</td>\n",
       "      <td>27.000000</td>\n",
       "      <td>1.000000</td>\n",
       "      <td>1.000000</td>\n",
       "      <td>1.000000</td>\n",
       "    </tr>\n",
       "    <tr>\n",
       "      <th>50%</th>\n",
       "      <td>18.000000</td>\n",
       "      <td>2320.000000</td>\n",
       "      <td>3.000000</td>\n",
       "      <td>3.000000</td>\n",
       "      <td>33.000000</td>\n",
       "      <td>1.000000</td>\n",
       "      <td>1.000000</td>\n",
       "      <td>1.000000</td>\n",
       "    </tr>\n",
       "    <tr>\n",
       "      <th>75%</th>\n",
       "      <td>24.000000</td>\n",
       "      <td>3972.500000</td>\n",
       "      <td>4.000000</td>\n",
       "      <td>4.000000</td>\n",
       "      <td>42.000000</td>\n",
       "      <td>2.000000</td>\n",
       "      <td>1.000000</td>\n",
       "      <td>2.000000</td>\n",
       "    </tr>\n",
       "    <tr>\n",
       "      <th>max</th>\n",
       "      <td>72.000000</td>\n",
       "      <td>18424.000000</td>\n",
       "      <td>4.000000</td>\n",
       "      <td>4.000000</td>\n",
       "      <td>75.000000</td>\n",
       "      <td>4.000000</td>\n",
       "      <td>2.000000</td>\n",
       "      <td>2.000000</td>\n",
       "    </tr>\n",
       "  </tbody>\n",
       "</table>\n",
       "</div>"
      ],
      "text/plain": [
       "         duration  creditAmount  installmentRate  residenceSince         age  \\\n",
       "count  999.000000    999.000000       999.000000      999.000000  999.000000   \n",
       "mean    20.917918   3273.362362         2.971972        2.843844   35.514515   \n",
       "std     12.055619   2823.365811         1.118802        1.103665   11.337487   \n",
       "min      4.000000    250.000000         1.000000        1.000000   19.000000   \n",
       "25%     12.000000   1368.500000         2.000000        2.000000   27.000000   \n",
       "50%     18.000000   2320.000000         3.000000        3.000000   33.000000   \n",
       "75%     24.000000   3972.500000         4.000000        4.000000   42.000000   \n",
       "max     72.000000  18424.000000         4.000000        4.000000   75.000000   \n",
       "\n",
       "       existingCredits      liable       class  \n",
       "count       999.000000  999.000000  999.000000  \n",
       "mean          1.406406    1.155155    1.300300  \n",
       "std           0.577639    0.362234    0.458618  \n",
       "min           1.000000    1.000000    1.000000  \n",
       "25%           1.000000    1.000000    1.000000  \n",
       "50%           1.000000    1.000000    1.000000  \n",
       "75%           2.000000    1.000000    2.000000  \n",
       "max           4.000000    2.000000    2.000000  "
      ]
     },
     "execution_count": 11,
     "metadata": {},
     "output_type": "execute_result"
    }
   ],
   "source": [
    "df.describe()"
   ]
  },
  {
   "cell_type": "code",
   "execution_count": 12,
   "metadata": {
    "colab": {
     "base_uri": "https://localhost:8080/"
    },
    "id": "4gdHUzBuMCz2",
    "outputId": "b285e472-e3c9-4c86-cd6d-bfb85fa63181"
   },
   "outputs": [
    {
     "data": {
      "text/plain": [
       "(361.81, 14903.569999999992)"
      ]
     },
     "execution_count": 12,
     "metadata": {},
     "output_type": "execute_result"
    }
   ],
   "source": [
    "min_threshold, max_threshold=df.creditAmount.quantile([0.005,0.995])\n",
    "min_threshold, max_threshold"
   ]
  },
  {
   "cell_type": "code",
   "execution_count": 13,
   "metadata": {
    "colab": {
     "base_uri": "https://localhost:8080/",
     "height": 435
    },
    "id": "3e6SHRTqMCz3",
    "outputId": "ca52ee4a-5869-463b-a0bb-0a1e0eeeae83"
   },
   "outputs": [
    {
     "data": {
      "text/html": [
       "<div>\n",
       "<style scoped>\n",
       "    .dataframe tbody tr th:only-of-type {\n",
       "        vertical-align: middle;\n",
       "    }\n",
       "\n",
       "    .dataframe tbody tr th {\n",
       "        vertical-align: top;\n",
       "    }\n",
       "\n",
       "    .dataframe thead th {\n",
       "        text-align: right;\n",
       "    }\n",
       "</style>\n",
       "<table border=\"1\" class=\"dataframe\">\n",
       "  <thead>\n",
       "    <tr style=\"text-align: right;\">\n",
       "      <th></th>\n",
       "      <th>checkAccount</th>\n",
       "      <th>duration</th>\n",
       "      <th>creditHistory</th>\n",
       "      <th>purpose</th>\n",
       "      <th>creditAmount</th>\n",
       "      <th>savings</th>\n",
       "      <th>employedSince</th>\n",
       "      <th>installmentRate</th>\n",
       "      <th>statusSex</th>\n",
       "      <th>otherDebtors</th>\n",
       "      <th>...</th>\n",
       "      <th>property</th>\n",
       "      <th>age</th>\n",
       "      <th>otherInstallment</th>\n",
       "      <th>housing</th>\n",
       "      <th>existingCredits</th>\n",
       "      <th>job</th>\n",
       "      <th>liable</th>\n",
       "      <th>telephone</th>\n",
       "      <th>foreign</th>\n",
       "      <th>class</th>\n",
       "    </tr>\n",
       "  </thead>\n",
       "  <tbody>\n",
       "    <tr>\n",
       "      <th>94</th>\n",
       "      <td>0 &lt;= &lt;200 DM</td>\n",
       "      <td>54</td>\n",
       "      <td>no credits taken</td>\n",
       "      <td>business</td>\n",
       "      <td>15945</td>\n",
       "      <td>&lt;100 DM</td>\n",
       "      <td>&lt;1 years</td>\n",
       "      <td>3</td>\n",
       "      <td>male</td>\n",
       "      <td>none</td>\n",
       "      <td>...</td>\n",
       "      <td>unknown / no property</td>\n",
       "      <td>58</td>\n",
       "      <td>none</td>\n",
       "      <td>rent</td>\n",
       "      <td>1</td>\n",
       "      <td>skilled employee / official</td>\n",
       "      <td>1</td>\n",
       "      <td>yes</td>\n",
       "      <td>yes</td>\n",
       "      <td>2</td>\n",
       "    </tr>\n",
       "    <tr>\n",
       "      <th>636</th>\n",
       "      <td>0</td>\n",
       "      <td>60</td>\n",
       "      <td>delay in paying off</td>\n",
       "      <td>television</td>\n",
       "      <td>15653</td>\n",
       "      <td>&lt;100 DM</td>\n",
       "      <td>4&lt;= &lt;7 years</td>\n",
       "      <td>2</td>\n",
       "      <td>male</td>\n",
       "      <td>none</td>\n",
       "      <td>...</td>\n",
       "      <td>car or other</td>\n",
       "      <td>21</td>\n",
       "      <td>none</td>\n",
       "      <td>own</td>\n",
       "      <td>2</td>\n",
       "      <td>skilled employee / official</td>\n",
       "      <td>1</td>\n",
       "      <td>yes</td>\n",
       "      <td>yes</td>\n",
       "      <td>1</td>\n",
       "    </tr>\n",
       "    <tr>\n",
       "      <th>817</th>\n",
       "      <td>&lt;0 DM</td>\n",
       "      <td>36</td>\n",
       "      <td>existing credits paid</td>\n",
       "      <td>others</td>\n",
       "      <td>15857</td>\n",
       "      <td>&lt;100 DM</td>\n",
       "      <td>unemployed</td>\n",
       "      <td>2</td>\n",
       "      <td>male</td>\n",
       "      <td>co-applicant</td>\n",
       "      <td>...</td>\n",
       "      <td>car or other</td>\n",
       "      <td>43</td>\n",
       "      <td>none</td>\n",
       "      <td>own</td>\n",
       "      <td>1</td>\n",
       "      <td>management/ highly qualified employee</td>\n",
       "      <td>1</td>\n",
       "      <td>none</td>\n",
       "      <td>yes</td>\n",
       "      <td>1</td>\n",
       "    </tr>\n",
       "    <tr>\n",
       "      <th>886</th>\n",
       "      <td>0 &lt;= &lt;200 DM</td>\n",
       "      <td>48</td>\n",
       "      <td>existing credits paid</td>\n",
       "      <td>business</td>\n",
       "      <td>15672</td>\n",
       "      <td>&lt;100 DM</td>\n",
       "      <td>1&lt;= &lt; 4 years</td>\n",
       "      <td>2</td>\n",
       "      <td>male</td>\n",
       "      <td>none</td>\n",
       "      <td>...</td>\n",
       "      <td>car or other</td>\n",
       "      <td>23</td>\n",
       "      <td>none</td>\n",
       "      <td>own</td>\n",
       "      <td>1</td>\n",
       "      <td>skilled employee / official</td>\n",
       "      <td>1</td>\n",
       "      <td>yes</td>\n",
       "      <td>yes</td>\n",
       "      <td>2</td>\n",
       "    </tr>\n",
       "    <tr>\n",
       "      <th>914</th>\n",
       "      <td>0 &lt;= &lt;200 DM</td>\n",
       "      <td>48</td>\n",
       "      <td>no credits taken</td>\n",
       "      <td>others</td>\n",
       "      <td>18424</td>\n",
       "      <td>&lt;100 DM</td>\n",
       "      <td>1&lt;= &lt; 4 years</td>\n",
       "      <td>1</td>\n",
       "      <td>female</td>\n",
       "      <td>none</td>\n",
       "      <td>...</td>\n",
       "      <td>savings agreement/life insurance</td>\n",
       "      <td>32</td>\n",
       "      <td>bank</td>\n",
       "      <td>own</td>\n",
       "      <td>1</td>\n",
       "      <td>management/ highly qualified employee</td>\n",
       "      <td>1</td>\n",
       "      <td>yes</td>\n",
       "      <td>no</td>\n",
       "      <td>2</td>\n",
       "    </tr>\n",
       "  </tbody>\n",
       "</table>\n",
       "<p>5 rows × 21 columns</p>\n",
       "</div>"
      ],
      "text/plain": [
       "     checkAccount  duration          creditHistory     purpose  creditAmount  \\\n",
       "94   0 <= <200 DM        54       no credits taken    business         15945   \n",
       "636             0        60    delay in paying off  television         15653   \n",
       "817         <0 DM        36  existing credits paid      others         15857   \n",
       "886  0 <= <200 DM        48  existing credits paid    business         15672   \n",
       "914  0 <= <200 DM        48       no credits taken      others         18424   \n",
       "\n",
       "     savings  employedSince  installmentRate statusSex  otherDebtors  ...  \\\n",
       "94   <100 DM       <1 years                3      male          none  ...   \n",
       "636  <100 DM   4<= <7 years                2      male          none  ...   \n",
       "817  <100 DM     unemployed                2      male  co-applicant  ...   \n",
       "886  <100 DM  1<= < 4 years                2      male          none  ...   \n",
       "914  <100 DM  1<= < 4 years                1    female          none  ...   \n",
       "\n",
       "                             property age  otherInstallment housing  \\\n",
       "94              unknown / no property  58              none    rent   \n",
       "636                      car or other  21              none     own   \n",
       "817                      car or other  43              none     own   \n",
       "886                      car or other  23              none     own   \n",
       "914  savings agreement/life insurance  32              bank     own   \n",
       "\n",
       "    existingCredits                                    job liable  telephone  \\\n",
       "94                1            skilled employee / official      1        yes   \n",
       "636               2            skilled employee / official      1        yes   \n",
       "817               1  management/ highly qualified employee      1       none   \n",
       "886               1            skilled employee / official      1        yes   \n",
       "914               1  management/ highly qualified employee      1        yes   \n",
       "\n",
       "    foreign class  \n",
       "94      yes     2  \n",
       "636     yes     1  \n",
       "817     yes     1  \n",
       "886     yes     2  \n",
       "914      no     2  \n",
       "\n",
       "[5 rows x 21 columns]"
      ]
     },
     "execution_count": 13,
     "metadata": {},
     "output_type": "execute_result"
    }
   ],
   "source": [
    "df[df.creditAmount>max_threshold]"
   ]
  },
  {
   "cell_type": "code",
   "execution_count": 14,
   "metadata": {
    "colab": {
     "base_uri": "https://localhost:8080/",
     "height": 365
    },
    "id": "qsk8CJH9MCz3",
    "outputId": "3e02c04f-8c0e-4f74-a82f-934d42929979"
   },
   "outputs": [
    {
     "data": {
      "text/html": [
       "<div>\n",
       "<style scoped>\n",
       "    .dataframe tbody tr th:only-of-type {\n",
       "        vertical-align: middle;\n",
       "    }\n",
       "\n",
       "    .dataframe tbody tr th {\n",
       "        vertical-align: top;\n",
       "    }\n",
       "\n",
       "    .dataframe thead th {\n",
       "        text-align: right;\n",
       "    }\n",
       "</style>\n",
       "<table border=\"1\" class=\"dataframe\">\n",
       "  <thead>\n",
       "    <tr style=\"text-align: right;\">\n",
       "      <th></th>\n",
       "      <th>checkAccount</th>\n",
       "      <th>duration</th>\n",
       "      <th>creditHistory</th>\n",
       "      <th>purpose</th>\n",
       "      <th>creditAmount</th>\n",
       "      <th>savings</th>\n",
       "      <th>employedSince</th>\n",
       "      <th>installmentRate</th>\n",
       "      <th>statusSex</th>\n",
       "      <th>otherDebtors</th>\n",
       "      <th>...</th>\n",
       "      <th>property</th>\n",
       "      <th>age</th>\n",
       "      <th>otherInstallment</th>\n",
       "      <th>housing</th>\n",
       "      <th>existingCredits</th>\n",
       "      <th>job</th>\n",
       "      <th>liable</th>\n",
       "      <th>telephone</th>\n",
       "      <th>foreign</th>\n",
       "      <th>class</th>\n",
       "    </tr>\n",
       "  </thead>\n",
       "  <tbody>\n",
       "    <tr>\n",
       "      <th>156</th>\n",
       "      <td>&lt;0 DM</td>\n",
       "      <td>12</td>\n",
       "      <td>all credits at this bank paid back duly</td>\n",
       "      <td>retraining</td>\n",
       "      <td>339</td>\n",
       "      <td>&lt;100 DM</td>\n",
       "      <td>&gt;=7 years</td>\n",
       "      <td>4</td>\n",
       "      <td>male</td>\n",
       "      <td>none</td>\n",
       "      <td>...</td>\n",
       "      <td>car or other</td>\n",
       "      <td>45</td>\n",
       "      <td>bank</td>\n",
       "      <td>own</td>\n",
       "      <td>1</td>\n",
       "      <td>unskilled - resident</td>\n",
       "      <td>1</td>\n",
       "      <td>none</td>\n",
       "      <td>yes</td>\n",
       "      <td>1</td>\n",
       "    </tr>\n",
       "    <tr>\n",
       "      <th>176</th>\n",
       "      <td>&lt;0 DM</td>\n",
       "      <td>6</td>\n",
       "      <td>critical account</td>\n",
       "      <td>television</td>\n",
       "      <td>338</td>\n",
       "      <td>500 &lt;= &lt; 1000 DM</td>\n",
       "      <td>&gt;=7 years</td>\n",
       "      <td>4</td>\n",
       "      <td>male</td>\n",
       "      <td>none</td>\n",
       "      <td>...</td>\n",
       "      <td>car or other</td>\n",
       "      <td>52</td>\n",
       "      <td>none</td>\n",
       "      <td>own</td>\n",
       "      <td>2</td>\n",
       "      <td>skilled employee / official</td>\n",
       "      <td>1</td>\n",
       "      <td>none</td>\n",
       "      <td>yes</td>\n",
       "      <td>1</td>\n",
       "    </tr>\n",
       "    <tr>\n",
       "      <th>308</th>\n",
       "      <td>0 &lt;= &lt;200 DM</td>\n",
       "      <td>9</td>\n",
       "      <td>existing credits paid</td>\n",
       "      <td>car-new</td>\n",
       "      <td>276</td>\n",
       "      <td>&lt;100 DM</td>\n",
       "      <td>1&lt;= &lt; 4 years</td>\n",
       "      <td>4</td>\n",
       "      <td>male</td>\n",
       "      <td>none</td>\n",
       "      <td>...</td>\n",
       "      <td>real estate</td>\n",
       "      <td>22</td>\n",
       "      <td>none</td>\n",
       "      <td>rent</td>\n",
       "      <td>1</td>\n",
       "      <td>unskilled - resident</td>\n",
       "      <td>1</td>\n",
       "      <td>none</td>\n",
       "      <td>yes</td>\n",
       "      <td>1</td>\n",
       "    </tr>\n",
       "    <tr>\n",
       "      <th>457</th>\n",
       "      <td>&lt;0 DM</td>\n",
       "      <td>6</td>\n",
       "      <td>existing credits paid</td>\n",
       "      <td>domestic appliances</td>\n",
       "      <td>343</td>\n",
       "      <td>&lt;100 DM</td>\n",
       "      <td>&lt;1 years</td>\n",
       "      <td>4</td>\n",
       "      <td>female</td>\n",
       "      <td>none</td>\n",
       "      <td>...</td>\n",
       "      <td>real estate</td>\n",
       "      <td>27</td>\n",
       "      <td>none</td>\n",
       "      <td>own</td>\n",
       "      <td>1</td>\n",
       "      <td>skilled employee / official</td>\n",
       "      <td>1</td>\n",
       "      <td>none</td>\n",
       "      <td>yes</td>\n",
       "      <td>1</td>\n",
       "    </tr>\n",
       "    <tr>\n",
       "      <th>724</th>\n",
       "      <td>0</td>\n",
       "      <td>6</td>\n",
       "      <td>critical account</td>\n",
       "      <td>car-new</td>\n",
       "      <td>250</td>\n",
       "      <td>&gt;= 1000 DM</td>\n",
       "      <td>1&lt;= &lt; 4 years</td>\n",
       "      <td>2</td>\n",
       "      <td>female</td>\n",
       "      <td>none</td>\n",
       "      <td>...</td>\n",
       "      <td>real estate</td>\n",
       "      <td>41</td>\n",
       "      <td>bank</td>\n",
       "      <td>own</td>\n",
       "      <td>2</td>\n",
       "      <td>unskilled - resident</td>\n",
       "      <td>1</td>\n",
       "      <td>none</td>\n",
       "      <td>yes</td>\n",
       "      <td>1</td>\n",
       "    </tr>\n",
       "  </tbody>\n",
       "</table>\n",
       "<p>5 rows × 21 columns</p>\n",
       "</div>"
      ],
      "text/plain": [
       "     checkAccount  duration                            creditHistory  \\\n",
       "156         <0 DM        12  all credits at this bank paid back duly   \n",
       "176         <0 DM         6                         critical account   \n",
       "308  0 <= <200 DM         9                    existing credits paid   \n",
       "457         <0 DM         6                    existing credits paid   \n",
       "724             0         6                         critical account   \n",
       "\n",
       "                 purpose  creditAmount           savings  employedSince  \\\n",
       "156           retraining           339           <100 DM      >=7 years   \n",
       "176           television           338  500 <= < 1000 DM      >=7 years   \n",
       "308              car-new           276           <100 DM  1<= < 4 years   \n",
       "457  domestic appliances           343           <100 DM       <1 years   \n",
       "724              car-new           250        >= 1000 DM  1<= < 4 years   \n",
       "\n",
       "     installmentRate statusSex otherDebtors  ...      property age  \\\n",
       "156                4      male         none  ...  car or other  45   \n",
       "176                4      male         none  ...  car or other  52   \n",
       "308                4      male         none  ...   real estate  22   \n",
       "457                4    female         none  ...   real estate  27   \n",
       "724                2    female         none  ...   real estate  41   \n",
       "\n",
       "     otherInstallment housing existingCredits                          job  \\\n",
       "156              bank     own               1         unskilled - resident   \n",
       "176              none     own               2  skilled employee / official   \n",
       "308              none    rent               1         unskilled - resident   \n",
       "457              none     own               1  skilled employee / official   \n",
       "724              bank     own               2         unskilled - resident   \n",
       "\n",
       "    liable  telephone foreign class  \n",
       "156      1       none     yes     1  \n",
       "176      1       none     yes     1  \n",
       "308      1       none     yes     1  \n",
       "457      1       none     yes     1  \n",
       "724      1       none     yes     1  \n",
       "\n",
       "[5 rows x 21 columns]"
      ]
     },
     "execution_count": 14,
     "metadata": {},
     "output_type": "execute_result"
    }
   ],
   "source": [
    "df[df.creditAmount<min_threshold]"
   ]
  },
  {
   "cell_type": "code",
   "execution_count": 15,
   "metadata": {
    "colab": {
     "base_uri": "https://localhost:8080/"
    },
    "id": "gL5z8PIUMCz4",
    "outputId": "f3daaf49-511d-49e9-8655-a759e105dde8"
   },
   "outputs": [
    {
     "data": {
      "text/plain": [
       "(20.0, 74.0)"
      ]
     },
     "execution_count": 15,
     "metadata": {},
     "output_type": "execute_result"
    }
   ],
   "source": [
    "min_threshold, max_threshold=df.age.quantile([0.005,0.995])\n",
    "min_threshold, max_threshold"
   ]
  },
  {
   "cell_type": "code",
   "execution_count": 16,
   "metadata": {
    "colab": {
     "base_uri": "https://localhost:8080/",
     "height": 236
    },
    "id": "MoVIMYOKMCz6",
    "outputId": "1972614f-1050-49e5-a1f3-6fa0b8eade3d"
   },
   "outputs": [
    {
     "data": {
      "text/html": [
       "<div>\n",
       "<style scoped>\n",
       "    .dataframe tbody tr th:only-of-type {\n",
       "        vertical-align: middle;\n",
       "    }\n",
       "\n",
       "    .dataframe tbody tr th {\n",
       "        vertical-align: top;\n",
       "    }\n",
       "\n",
       "    .dataframe thead th {\n",
       "        text-align: right;\n",
       "    }\n",
       "</style>\n",
       "<table border=\"1\" class=\"dataframe\">\n",
       "  <thead>\n",
       "    <tr style=\"text-align: right;\">\n",
       "      <th></th>\n",
       "      <th>checkAccount</th>\n",
       "      <th>duration</th>\n",
       "      <th>creditHistory</th>\n",
       "      <th>purpose</th>\n",
       "      <th>creditAmount</th>\n",
       "      <th>savings</th>\n",
       "      <th>employedSince</th>\n",
       "      <th>installmentRate</th>\n",
       "      <th>statusSex</th>\n",
       "      <th>otherDebtors</th>\n",
       "      <th>...</th>\n",
       "      <th>property</th>\n",
       "      <th>age</th>\n",
       "      <th>otherInstallment</th>\n",
       "      <th>housing</th>\n",
       "      <th>existingCredits</th>\n",
       "      <th>job</th>\n",
       "      <th>liable</th>\n",
       "      <th>telephone</th>\n",
       "      <th>foreign</th>\n",
       "      <th>class</th>\n",
       "    </tr>\n",
       "  </thead>\n",
       "  <tbody>\n",
       "    <tr>\n",
       "      <th>329</th>\n",
       "      <td>&lt;0 DM</td>\n",
       "      <td>24</td>\n",
       "      <td>critical account</td>\n",
       "      <td>car-used</td>\n",
       "      <td>6615</td>\n",
       "      <td>&lt;100 DM</td>\n",
       "      <td>unemployed</td>\n",
       "      <td>2</td>\n",
       "      <td>male</td>\n",
       "      <td>none</td>\n",
       "      <td>...</td>\n",
       "      <td>unknown / no property</td>\n",
       "      <td>75</td>\n",
       "      <td>none</td>\n",
       "      <td>for free</td>\n",
       "      <td>2</td>\n",
       "      <td>management/ highly qualified employee</td>\n",
       "      <td>1</td>\n",
       "      <td>yes</td>\n",
       "      <td>yes</td>\n",
       "      <td>1</td>\n",
       "    </tr>\n",
       "    <tr>\n",
       "      <th>535</th>\n",
       "      <td>&lt;0 DM</td>\n",
       "      <td>6</td>\n",
       "      <td>existing credits paid</td>\n",
       "      <td>car-new</td>\n",
       "      <td>1374</td>\n",
       "      <td>no savings account</td>\n",
       "      <td>unemployed</td>\n",
       "      <td>4</td>\n",
       "      <td>female</td>\n",
       "      <td>none</td>\n",
       "      <td>...</td>\n",
       "      <td>savings agreement/life insurance</td>\n",
       "      <td>75</td>\n",
       "      <td>none</td>\n",
       "      <td>own</td>\n",
       "      <td>1</td>\n",
       "      <td>management/ highly qualified employee</td>\n",
       "      <td>1</td>\n",
       "      <td>yes</td>\n",
       "      <td>yes</td>\n",
       "      <td>1</td>\n",
       "    </tr>\n",
       "  </tbody>\n",
       "</table>\n",
       "<p>2 rows × 21 columns</p>\n",
       "</div>"
      ],
      "text/plain": [
       "    checkAccount  duration          creditHistory   purpose  creditAmount  \\\n",
       "329        <0 DM        24       critical account  car-used          6615   \n",
       "535        <0 DM         6  existing credits paid   car-new          1374   \n",
       "\n",
       "                savings employedSince  installmentRate statusSex otherDebtors  \\\n",
       "329             <100 DM    unemployed                2      male         none   \n",
       "535  no savings account    unemployed                4    female         none   \n",
       "\n",
       "     ...                          property age  otherInstallment   housing  \\\n",
       "329  ...             unknown / no property  75              none  for free   \n",
       "535  ...  savings agreement/life insurance  75              none       own   \n",
       "\n",
       "    existingCredits                                    job liable  telephone  \\\n",
       "329               2  management/ highly qualified employee      1        yes   \n",
       "535               1  management/ highly qualified employee      1        yes   \n",
       "\n",
       "    foreign class  \n",
       "329     yes     1  \n",
       "535     yes     1  \n",
       "\n",
       "[2 rows x 21 columns]"
      ]
     },
     "execution_count": 16,
     "metadata": {},
     "output_type": "execute_result"
    }
   ],
   "source": [
    "df[df.age>max_threshold]"
   ]
  },
  {
   "cell_type": "code",
   "execution_count": 17,
   "metadata": {
    "colab": {
     "base_uri": "https://localhost:8080/"
    },
    "id": "yi6cVWbVMCz6",
    "outputId": "72341038-058a-48a3-aa81-286867ab7c52"
   },
   "outputs": [
    {
     "data": {
      "text/plain": [
       "(361.81, 14903.569999999992)"
      ]
     },
     "execution_count": 17,
     "metadata": {},
     "output_type": "execute_result"
    }
   ],
   "source": [
    "min_threshold, max_threshold=df.creditAmount.quantile([0.005,0.995])\n",
    "min_threshold, max_threshold"
   ]
  },
  {
   "cell_type": "code",
   "execution_count": 18,
   "metadata": {
    "colab": {
     "base_uri": "https://localhost:8080/",
     "height": 435
    },
    "id": "xzeoSz1pMCz6",
    "outputId": "e942b117-09f2-4f7e-adb4-1248e7049549"
   },
   "outputs": [
    {
     "data": {
      "text/html": [
       "<div>\n",
       "<style scoped>\n",
       "    .dataframe tbody tr th:only-of-type {\n",
       "        vertical-align: middle;\n",
       "    }\n",
       "\n",
       "    .dataframe tbody tr th {\n",
       "        vertical-align: top;\n",
       "    }\n",
       "\n",
       "    .dataframe thead th {\n",
       "        text-align: right;\n",
       "    }\n",
       "</style>\n",
       "<table border=\"1\" class=\"dataframe\">\n",
       "  <thead>\n",
       "    <tr style=\"text-align: right;\">\n",
       "      <th></th>\n",
       "      <th>checkAccount</th>\n",
       "      <th>duration</th>\n",
       "      <th>creditHistory</th>\n",
       "      <th>purpose</th>\n",
       "      <th>creditAmount</th>\n",
       "      <th>savings</th>\n",
       "      <th>employedSince</th>\n",
       "      <th>installmentRate</th>\n",
       "      <th>statusSex</th>\n",
       "      <th>otherDebtors</th>\n",
       "      <th>...</th>\n",
       "      <th>property</th>\n",
       "      <th>age</th>\n",
       "      <th>otherInstallment</th>\n",
       "      <th>housing</th>\n",
       "      <th>existingCredits</th>\n",
       "      <th>job</th>\n",
       "      <th>liable</th>\n",
       "      <th>telephone</th>\n",
       "      <th>foreign</th>\n",
       "      <th>class</th>\n",
       "    </tr>\n",
       "  </thead>\n",
       "  <tbody>\n",
       "    <tr>\n",
       "      <th>94</th>\n",
       "      <td>0 &lt;= &lt;200 DM</td>\n",
       "      <td>54</td>\n",
       "      <td>no credits taken</td>\n",
       "      <td>business</td>\n",
       "      <td>15945</td>\n",
       "      <td>&lt;100 DM</td>\n",
       "      <td>&lt;1 years</td>\n",
       "      <td>3</td>\n",
       "      <td>male</td>\n",
       "      <td>none</td>\n",
       "      <td>...</td>\n",
       "      <td>unknown / no property</td>\n",
       "      <td>58</td>\n",
       "      <td>none</td>\n",
       "      <td>rent</td>\n",
       "      <td>1</td>\n",
       "      <td>skilled employee / official</td>\n",
       "      <td>1</td>\n",
       "      <td>yes</td>\n",
       "      <td>yes</td>\n",
       "      <td>2</td>\n",
       "    </tr>\n",
       "    <tr>\n",
       "      <th>636</th>\n",
       "      <td>0</td>\n",
       "      <td>60</td>\n",
       "      <td>delay in paying off</td>\n",
       "      <td>television</td>\n",
       "      <td>15653</td>\n",
       "      <td>&lt;100 DM</td>\n",
       "      <td>4&lt;= &lt;7 years</td>\n",
       "      <td>2</td>\n",
       "      <td>male</td>\n",
       "      <td>none</td>\n",
       "      <td>...</td>\n",
       "      <td>car or other</td>\n",
       "      <td>21</td>\n",
       "      <td>none</td>\n",
       "      <td>own</td>\n",
       "      <td>2</td>\n",
       "      <td>skilled employee / official</td>\n",
       "      <td>1</td>\n",
       "      <td>yes</td>\n",
       "      <td>yes</td>\n",
       "      <td>1</td>\n",
       "    </tr>\n",
       "    <tr>\n",
       "      <th>817</th>\n",
       "      <td>&lt;0 DM</td>\n",
       "      <td>36</td>\n",
       "      <td>existing credits paid</td>\n",
       "      <td>others</td>\n",
       "      <td>15857</td>\n",
       "      <td>&lt;100 DM</td>\n",
       "      <td>unemployed</td>\n",
       "      <td>2</td>\n",
       "      <td>male</td>\n",
       "      <td>co-applicant</td>\n",
       "      <td>...</td>\n",
       "      <td>car or other</td>\n",
       "      <td>43</td>\n",
       "      <td>none</td>\n",
       "      <td>own</td>\n",
       "      <td>1</td>\n",
       "      <td>management/ highly qualified employee</td>\n",
       "      <td>1</td>\n",
       "      <td>none</td>\n",
       "      <td>yes</td>\n",
       "      <td>1</td>\n",
       "    </tr>\n",
       "    <tr>\n",
       "      <th>886</th>\n",
       "      <td>0 &lt;= &lt;200 DM</td>\n",
       "      <td>48</td>\n",
       "      <td>existing credits paid</td>\n",
       "      <td>business</td>\n",
       "      <td>15672</td>\n",
       "      <td>&lt;100 DM</td>\n",
       "      <td>1&lt;= &lt; 4 years</td>\n",
       "      <td>2</td>\n",
       "      <td>male</td>\n",
       "      <td>none</td>\n",
       "      <td>...</td>\n",
       "      <td>car or other</td>\n",
       "      <td>23</td>\n",
       "      <td>none</td>\n",
       "      <td>own</td>\n",
       "      <td>1</td>\n",
       "      <td>skilled employee / official</td>\n",
       "      <td>1</td>\n",
       "      <td>yes</td>\n",
       "      <td>yes</td>\n",
       "      <td>2</td>\n",
       "    </tr>\n",
       "    <tr>\n",
       "      <th>914</th>\n",
       "      <td>0 &lt;= &lt;200 DM</td>\n",
       "      <td>48</td>\n",
       "      <td>no credits taken</td>\n",
       "      <td>others</td>\n",
       "      <td>18424</td>\n",
       "      <td>&lt;100 DM</td>\n",
       "      <td>1&lt;= &lt; 4 years</td>\n",
       "      <td>1</td>\n",
       "      <td>female</td>\n",
       "      <td>none</td>\n",
       "      <td>...</td>\n",
       "      <td>savings agreement/life insurance</td>\n",
       "      <td>32</td>\n",
       "      <td>bank</td>\n",
       "      <td>own</td>\n",
       "      <td>1</td>\n",
       "      <td>management/ highly qualified employee</td>\n",
       "      <td>1</td>\n",
       "      <td>yes</td>\n",
       "      <td>no</td>\n",
       "      <td>2</td>\n",
       "    </tr>\n",
       "  </tbody>\n",
       "</table>\n",
       "<p>5 rows × 21 columns</p>\n",
       "</div>"
      ],
      "text/plain": [
       "     checkAccount  duration          creditHistory     purpose  creditAmount  \\\n",
       "94   0 <= <200 DM        54       no credits taken    business         15945   \n",
       "636             0        60    delay in paying off  television         15653   \n",
       "817         <0 DM        36  existing credits paid      others         15857   \n",
       "886  0 <= <200 DM        48  existing credits paid    business         15672   \n",
       "914  0 <= <200 DM        48       no credits taken      others         18424   \n",
       "\n",
       "     savings  employedSince  installmentRate statusSex  otherDebtors  ...  \\\n",
       "94   <100 DM       <1 years                3      male          none  ...   \n",
       "636  <100 DM   4<= <7 years                2      male          none  ...   \n",
       "817  <100 DM     unemployed                2      male  co-applicant  ...   \n",
       "886  <100 DM  1<= < 4 years                2      male          none  ...   \n",
       "914  <100 DM  1<= < 4 years                1    female          none  ...   \n",
       "\n",
       "                             property age  otherInstallment housing  \\\n",
       "94              unknown / no property  58              none    rent   \n",
       "636                      car or other  21              none     own   \n",
       "817                      car or other  43              none     own   \n",
       "886                      car or other  23              none     own   \n",
       "914  savings agreement/life insurance  32              bank     own   \n",
       "\n",
       "    existingCredits                                    job liable  telephone  \\\n",
       "94                1            skilled employee / official      1        yes   \n",
       "636               2            skilled employee / official      1        yes   \n",
       "817               1  management/ highly qualified employee      1       none   \n",
       "886               1            skilled employee / official      1        yes   \n",
       "914               1  management/ highly qualified employee      1        yes   \n",
       "\n",
       "    foreign class  \n",
       "94      yes     2  \n",
       "636     yes     1  \n",
       "817     yes     1  \n",
       "886     yes     2  \n",
       "914      no     2  \n",
       "\n",
       "[5 rows x 21 columns]"
      ]
     },
     "execution_count": 18,
     "metadata": {},
     "output_type": "execute_result"
    }
   ],
   "source": [
    "df[df.creditAmount>max_threshold]"
   ]
  },
  {
   "cell_type": "code",
   "execution_count": 74,
   "metadata": {
    "colab": {
     "base_uri": "https://localhost:8080/",
     "height": 452
    },
    "id": "kjvzY-RZMCz6",
    "outputId": "071254ab-f753-49dd-ab07-6571d7eeb624"
   },
   "outputs": [
    {
     "data": {
      "text/plain": [
       "<AxesSubplot:ylabel='creditAmount'>"
      ]
     },
     "execution_count": 74,
     "metadata": {},
     "output_type": "execute_result"
    },
    {
     "data": {
      "image/png": "[encoded data removed]",
      "text/plain": [
       "<Figure size 432x432 with 1 Axes>"
      ]
     },
     "metadata": {},
     "output_type": "display_data"
    }
   ],
   "source": [
    "sns.set(rc={'figure.figsize' : (6,6)})\n",
    "sns.scatterplot(x=df.index, y=df.creditAmount, hue = df[\"class\"])"
   ]
  },
  {
   "cell_type": "code",
   "execution_count": 78,
   "metadata": {
    "colab": {
     "base_uri": "https://localhost:8080/",
     "height": 506
    },
    "id": "dRF0zqbAMCz7",
    "outputId": "8f53babc-0873-451c-93d2-295d167fa0c2"
   },
   "outputs": [
    {
     "data": {
      "text/plain": [
       "<seaborn.axisgrid.FacetGrid at 0x29198d73d00>"
      ]
     },
     "execution_count": 78,
     "metadata": {},
     "output_type": "execute_result"
    },
    {
     "data": {
      "image/png": "[encoded data removed]",
      "text/plain": [
       "<Figure size 360x360 with 1 Axes>"
      ]
     },
     "metadata": {},
     "output_type": "display_data"
    }
   ],
   "source": [
    "sns.set(rc={'figure.figsize' : (6,6)})\n",
    "sns.displot(x=np.log(df.creditAmount), color = 'black', rug=True)"
   ]
  },
  {
   "cell_type": "code",
   "execution_count": 79,
   "metadata": {
    "colab": {
     "base_uri": "https://localhost:8080/",
     "height": 469
    },
    "id": "Hv7xUsxcMCz8",
    "outputId": "00dc8154-8696-4199-b041-677c135ecc4d"
   },
   "outputs": [
    {
     "data": {
      "text/plain": [
       "<AxesSubplot:xlabel='creditAmount'>"
      ]
     },
     "execution_count": 79,
     "metadata": {},
     "output_type": "execute_result"
    },
    {
     "data": {
      "image/png": "[encoded data removed]",
      "text/plain": [
       "<Figure size 432x432 with 1 Axes>"
      ]
     },
     "metadata": {},
     "output_type": "display_data"
    }
   ],
   "source": [
    "sns.boxplot(x=df.creditAmount)"
   ]
  },
  {
   "cell_type": "code",
   "execution_count": 81,
   "metadata": {
    "colab": {
     "base_uri": "https://localhost:8080/",
     "height": 506
    },
    "id": "b1fZ6bMqMCz8",
    "outputId": "98a0ea23-63c1-43ac-fd2b-6469a852e88c"
   },
   "outputs": [
    {
     "data": {
      "text/plain": [
       "<seaborn.axisgrid.FacetGrid at 0x2919dc74310>"
      ]
     },
     "execution_count": 81,
     "metadata": {},
     "output_type": "execute_result"
    },
    {
     "data": {
      "image/png": "[encoded data removed]",
      "text/plain": [
       "<Figure size 360x360 with 1 Axes>"
      ]
     },
     "metadata": {},
     "output_type": "display_data"
    }
   ],
   "source": [
    "sns.set(rc={'figure.figsize' : (6,6)})\n",
    "sns.displot(x=df.duration, color = 'black', rug=True)"
   ]
  },
  {
   "cell_type": "code",
   "execution_count": 23,
   "metadata": {
    "colab": {
     "base_uri": "https://localhost:8080/"
    },
    "id": "MppX8H-bMCz8",
    "outputId": "e83a8c5f-4c4e-47f4-d9d7-1e0fc0192320"
   },
   "outputs": [
    {
     "data": {
      "text/plain": [
       "(4.0, 60.0)"
      ]
     },
     "execution_count": 23,
     "metadata": {},
     "output_type": "execute_result"
    }
   ],
   "source": [
    "min_threshold, max_threshold=df.duration.quantile([0.005,0.995])\n",
    "min_threshold, max_threshold"
   ]
  },
  {
   "cell_type": "code",
   "execution_count": 24,
   "metadata": {
    "colab": {
     "base_uri": "https://localhost:8080/",
     "height": 69
    },
    "id": "cfOMPKFoMCz9",
    "outputId": "b7c4417f-1c97-4326-f7e2-2fd86db5e3f1"
   },
   "outputs": [
    {
     "data": {
      "text/html": [
       "<div>\n",
       "<style scoped>\n",
       "    .dataframe tbody tr th:only-of-type {\n",
       "        vertical-align: middle;\n",
       "    }\n",
       "\n",
       "    .dataframe tbody tr th {\n",
       "        vertical-align: top;\n",
       "    }\n",
       "\n",
       "    .dataframe thead th {\n",
       "        text-align: right;\n",
       "    }\n",
       "</style>\n",
       "<table border=\"1\" class=\"dataframe\">\n",
       "  <thead>\n",
       "    <tr style=\"text-align: right;\">\n",
       "      <th></th>\n",
       "      <th>checkAccount</th>\n",
       "      <th>duration</th>\n",
       "      <th>creditHistory</th>\n",
       "      <th>purpose</th>\n",
       "      <th>creditAmount</th>\n",
       "      <th>savings</th>\n",
       "      <th>employedSince</th>\n",
       "      <th>installmentRate</th>\n",
       "      <th>statusSex</th>\n",
       "      <th>otherDebtors</th>\n",
       "      <th>...</th>\n",
       "      <th>property</th>\n",
       "      <th>age</th>\n",
       "      <th>otherInstallment</th>\n",
       "      <th>housing</th>\n",
       "      <th>existingCredits</th>\n",
       "      <th>job</th>\n",
       "      <th>liable</th>\n",
       "      <th>telephone</th>\n",
       "      <th>foreign</th>\n",
       "      <th>class</th>\n",
       "    </tr>\n",
       "  </thead>\n",
       "  <tbody>\n",
       "  </tbody>\n",
       "</table>\n",
       "<p>0 rows × 21 columns</p>\n",
       "</div>"
      ],
      "text/plain": [
       "Empty DataFrame\n",
       "Columns: [checkAccount, duration, creditHistory, purpose, creditAmount, savings, employedSince, installmentRate, statusSex, otherDebtors, residenceSince, property, age, otherInstallment, housing, existingCredits, job, liable, telephone, foreign, class]\n",
       "Index: []\n",
       "\n",
       "[0 rows x 21 columns]"
      ]
     },
     "execution_count": 24,
     "metadata": {},
     "output_type": "execute_result"
    }
   ],
   "source": [
    "df[df.duration<min_threshold]"
   ]
  },
  {
   "cell_type": "code",
   "execution_count": 25,
   "metadata": {
    "colab": {
     "base_uri": "https://localhost:8080/",
     "height": 136
    },
    "id": "uNAvHzfHMCz9",
    "outputId": "c2032292-7319-4b9e-f1fe-14c3c917e230"
   },
   "outputs": [
    {
     "data": {
      "text/html": [
       "<div>\n",
       "<style scoped>\n",
       "    .dataframe tbody tr th:only-of-type {\n",
       "        vertical-align: middle;\n",
       "    }\n",
       "\n",
       "    .dataframe tbody tr th {\n",
       "        vertical-align: top;\n",
       "    }\n",
       "\n",
       "    .dataframe thead th {\n",
       "        text-align: right;\n",
       "    }\n",
       "</style>\n",
       "<table border=\"1\" class=\"dataframe\">\n",
       "  <thead>\n",
       "    <tr style=\"text-align: right;\">\n",
       "      <th></th>\n",
       "      <th>checkAccount</th>\n",
       "      <th>duration</th>\n",
       "      <th>creditHistory</th>\n",
       "      <th>purpose</th>\n",
       "      <th>creditAmount</th>\n",
       "      <th>savings</th>\n",
       "      <th>employedSince</th>\n",
       "      <th>installmentRate</th>\n",
       "      <th>statusSex</th>\n",
       "      <th>otherDebtors</th>\n",
       "      <th>...</th>\n",
       "      <th>property</th>\n",
       "      <th>age</th>\n",
       "      <th>otherInstallment</th>\n",
       "      <th>housing</th>\n",
       "      <th>existingCredits</th>\n",
       "      <th>job</th>\n",
       "      <th>liable</th>\n",
       "      <th>telephone</th>\n",
       "      <th>foreign</th>\n",
       "      <th>class</th>\n",
       "    </tr>\n",
       "  </thead>\n",
       "  <tbody>\n",
       "    <tr>\n",
       "      <th>676</th>\n",
       "      <td>0 &lt;= &lt;200 DM</td>\n",
       "      <td>72</td>\n",
       "      <td>existing credits paid</td>\n",
       "      <td>television</td>\n",
       "      <td>5595</td>\n",
       "      <td>100 &lt;= &lt;500 DM</td>\n",
       "      <td>1&lt;= &lt; 4 years</td>\n",
       "      <td>2</td>\n",
       "      <td>male</td>\n",
       "      <td>none</td>\n",
       "      <td>...</td>\n",
       "      <td>car or other</td>\n",
       "      <td>24</td>\n",
       "      <td>none</td>\n",
       "      <td>own</td>\n",
       "      <td>1</td>\n",
       "      <td>skilled employee / official</td>\n",
       "      <td>1</td>\n",
       "      <td>none</td>\n",
       "      <td>yes</td>\n",
       "      <td>2</td>\n",
       "    </tr>\n",
       "  </tbody>\n",
       "</table>\n",
       "<p>1 rows × 21 columns</p>\n",
       "</div>"
      ],
      "text/plain": [
       "     checkAccount  duration          creditHistory     purpose  creditAmount  \\\n",
       "676  0 <= <200 DM        72  existing credits paid  television          5595   \n",
       "\n",
       "            savings  employedSince  installmentRate statusSex otherDebtors  \\\n",
       "676  100 <= <500 DM  1<= < 4 years                2      male         none   \n",
       "\n",
       "     ...      property age  otherInstallment housing existingCredits  \\\n",
       "676  ...  car or other  24              none     own               1   \n",
       "\n",
       "                             job liable  telephone foreign class  \n",
       "676  skilled employee / official      1       none     yes     2  \n",
       "\n",
       "[1 rows x 21 columns]"
      ]
     },
     "execution_count": 25,
     "metadata": {},
     "output_type": "execute_result"
    }
   ],
   "source": [
    "df[df.duration>max_threshold]"
   ]
  },
  {
   "cell_type": "code",
   "execution_count": 82,
   "metadata": {
    "colab": {
     "base_uri": "https://localhost:8080/",
     "height": 452
    },
    "id": "dzcXNnzIMCz-",
    "outputId": "d0943fc3-c236-4a5b-c63f-dd85df7cca03"
   },
   "outputs": [
    {
     "data": {
      "text/plain": [
       "<AxesSubplot:ylabel='duration'>"
      ]
     },
     "execution_count": 82,
     "metadata": {},
     "output_type": "execute_result"
    },
    {
     "data": {
      "image/png": "[encoded data removed]",
      "text/plain": [
       "<Figure size 432x432 with 1 Axes>"
      ]
     },
     "metadata": {},
     "output_type": "display_data"
    }
   ],
   "source": [
    "sns.set(rc={'figure.figsize' : (6,6)})\n",
    "sns.scatterplot(x=df.index, y=df.duration)"
   ]
  },
  {
   "cell_type": "code",
   "execution_count": 83,
   "metadata": {
    "colab": {
     "base_uri": "https://localhost:8080/",
     "height": 469
    },
    "id": "eS94krGXMCz_",
    "outputId": "48077d88-5a41-4709-c030-351ed1d3de35"
   },
   "outputs": [
    {
     "data": {
      "text/plain": [
       "<AxesSubplot:xlabel='duration'>"
      ]
     },
     "execution_count": 83,
     "metadata": {},
     "output_type": "execute_result"
    },
    {
     "data": {
      "image/png": "[encoded data removed]",
      "text/plain": [
       "<Figure size 432x432 with 1 Axes>"
      ]
     },
     "metadata": {},
     "output_type": "display_data"
    }
   ],
   "source": [
    "sns.boxplot(x=df.duration)"
   ]
  },
  {
   "cell_type": "markdown",
   "metadata": {},
   "source": [
    "There is positive skewness in this column as well, since the right whisker of the boxplot is larger relatively. However, the point highlighted above isoutlier, hence we are going to remove thesefrom our dataset. We are not going to remove the rest of thepoints outside the boxplots, because these are the significant part of our dataset; due to high variance, removing them may lead to misclassification. \n",
    "\n",
    "Hence, removing the above points will give us the following normal distribution:"
   ]
  },
  {
   "cell_type": "code",
   "execution_count": 28,
   "metadata": {
    "colab": {
     "base_uri": "https://localhost:8080/",
     "height": 395
    },
    "id": "SaFoQ3KeMCz_",
    "outputId": "fa3efc85-64c3-4952-c98e-8c9b11130e1d"
   },
   "outputs": [
    {
     "data": {
      "text/plain": [
       "[<matplotlib.lines.Line2D at 0x29198b6aee0>]"
      ]
     },
     "execution_count": 28,
     "metadata": {},
     "output_type": "execute_result"
    },
    {
     "data": {
      "image/png": "[encoded data removed]",
      "text/plain": [
       "<Figure size 432x432 with 1 Axes>"
      ]
     },
     "metadata": {},
     "output_type": "display_data"
    }
   ],
   "source": [
    "from scipy.stats import norm\n",
    "rng = np.arange(df.duration[df.duration<60].max() - df.duration[df.duration<60].min())\n",
    "plt.plot(rng, norm.pdf(rng, df.duration[df.duration<60].mean(), df.duration[df.duration<60].std()))"
   ]
  },
  {
   "cell_type": "code",
   "execution_count": 84,
   "metadata": {
    "colab": {
     "base_uri": "https://localhost:8080/",
     "height": 506
    },
    "id": "ZDT-P6ISMCz_",
    "outputId": "21cc860c-4fa0-414a-bf03-9f88aa535235"
   },
   "outputs": [
    {
     "data": {
      "text/plain": [
       "<seaborn.axisgrid.FacetGrid at 0x2919de68bb0>"
      ]
     },
     "execution_count": 84,
     "metadata": {},
     "output_type": "execute_result"
    },
    {
     "data": {
      "image/png": "[encoded data removed]",
      "text/plain": [
       "<Figure size 360x360 with 1 Axes>"
      ]
     },
     "metadata": {},
     "output_type": "display_data"
    }
   ],
   "source": [
    "sns.set(rc={'figure.figsize' : (6,6)})\n",
    "sns.displot(x=df.duration, color = 'black', rug=True)"
   ]
  },
  {
   "cell_type": "code",
   "execution_count": 85,
   "metadata": {
    "colab": {
     "base_uri": "https://localhost:8080/",
     "height": 469
    },
    "id": "-q3oaHL6MC0A",
    "outputId": "fc1c0f32-7314-4f30-96b1-ba76c82d15c4"
   },
   "outputs": [
    {
     "data": {
      "text/plain": [
       "<AxesSubplot:xlabel='age'>"
      ]
     },
     "execution_count": 85,
     "metadata": {},
     "output_type": "execute_result"
    },
    {
     "data": {
      "image/png": "[encoded data removed]",
      "text/plain": [
       "<Figure size 432x432 with 1 Axes>"
      ]
     },
     "metadata": {},
     "output_type": "display_data"
    }
   ],
   "source": [
    "sns.boxplot(x=df.age)"
   ]
  },
  {
   "cell_type": "code",
   "execution_count": 31,
   "metadata": {
    "colab": {
     "base_uri": "https://localhost:8080/"
    },
    "id": "uL2ScMldMC0A",
    "outputId": "99453ed5-2ca6-4ea3-a0f1-019003732ea0"
   },
   "outputs": [
    {
     "data": {
      "text/plain": [
       "4    475\n",
       "2    231\n",
       "3    157\n",
       "1    136\n",
       "Name: installmentRate, dtype: int64"
      ]
     },
     "execution_count": 31,
     "metadata": {},
     "output_type": "execute_result"
    }
   ],
   "source": [
    "df.installmentRate.value_counts().head()"
   ]
  },
  {
   "cell_type": "code",
   "execution_count": 86,
   "metadata": {
    "colab": {
     "base_uri": "https://localhost:8080/",
     "height": 452
    },
    "id": "ITbAwU_dMC0A",
    "outputId": "ae5d98d0-cd96-4612-aa00-1fc1672a135b"
   },
   "outputs": [
    {
     "data": {
      "text/plain": [
       "<AxesSubplot:ylabel='installmentRate'>"
      ]
     },
     "execution_count": 86,
     "metadata": {},
     "output_type": "execute_result"
    },
    {
     "data": {
      "image/png": "[encoded data removed]",
      "text/plain": [
       "<Figure size 432x432 with 1 Axes>"
      ]
     },
     "metadata": {},
     "output_type": "display_data"
    }
   ],
   "source": [
    "sns.set(rc={'figure.figsize' : (6,6)})\n",
    "sns.scatterplot(x=df.index, y=df.installmentRate, hue = df[\"class\"])"
   ]
  },
  {
   "cell_type": "code",
   "execution_count": 33,
   "metadata": {
    "id": "eybV-wHWMC0B"
   },
   "outputs": [],
   "source": [
    "#numerical variables labels\n",
    "numvars = ['duration', 'creditAmount', 'installmentRate','residenceSince', 'age', \n",
    "           'existingCredits', 'liable']"
   ]
  },
  {
   "cell_type": "code",
   "execution_count": 34,
   "metadata": {
    "colab": {
     "base_uri": "https://localhost:8080/"
    },
    "id": "_SAlQY2GMC0B",
    "outputId": "052c062c-242e-4f3e-96a7-9e1131583fab"
   },
   "outputs": [
    {
     "data": {
      "text/plain": [
       "1    844\n",
       "2    155\n",
       "Name: liable, dtype: int64"
      ]
     },
     "execution_count": 34,
     "metadata": {},
     "output_type": "execute_result"
    }
   ],
   "source": [
    "df.liable.value_counts().head()"
   ]
  },
  {
   "cell_type": "code",
   "execution_count": 35,
   "metadata": {
    "colab": {
     "base_uri": "https://localhost:8080/"
    },
    "id": "7OlepJqlMC0B",
    "outputId": "eab746cc-4658-4743-cba8-7554c83fcd86"
   },
   "outputs": [
    {
     "data": {
      "text/plain": [
       "(998, 21)"
      ]
     },
     "execution_count": 35,
     "metadata": {},
     "output_type": "execute_result"
    }
   ],
   "source": [
    "# removing outliers from duration\n",
    "\n",
    "df_new = df[df.duration<70]\n",
    "df_new.shape"
   ]
  },
  {
   "cell_type": "code",
   "execution_count": 36,
   "metadata": {
    "colab": {
     "base_uri": "https://localhost:8080/",
     "height": 383
    },
    "id": "mQ3Dt2xmMC0C",
    "outputId": "e1cd1a56-e474-45ec-e3e2-e835b8c0b78a"
   },
   "outputs": [
    {
     "data": {
      "text/html": [
       "<div>\n",
       "<style scoped>\n",
       "    .dataframe tbody tr th:only-of-type {\n",
       "        vertical-align: middle;\n",
       "    }\n",
       "\n",
       "    .dataframe tbody tr th {\n",
       "        vertical-align: top;\n",
       "    }\n",
       "\n",
       "    .dataframe thead th {\n",
       "        text-align: right;\n",
       "    }\n",
       "</style>\n",
       "<table border=\"1\" class=\"dataframe\">\n",
       "  <thead>\n",
       "    <tr style=\"text-align: right;\">\n",
       "      <th></th>\n",
       "      <th>checkAccount</th>\n",
       "      <th>duration</th>\n",
       "      <th>creditHistory</th>\n",
       "      <th>purpose</th>\n",
       "      <th>creditAmount</th>\n",
       "      <th>savings</th>\n",
       "      <th>employedSince</th>\n",
       "      <th>installmentRate</th>\n",
       "      <th>statusSex</th>\n",
       "      <th>otherDebtors</th>\n",
       "      <th>...</th>\n",
       "      <th>property</th>\n",
       "      <th>age</th>\n",
       "      <th>otherInstallment</th>\n",
       "      <th>housing</th>\n",
       "      <th>existingCredits</th>\n",
       "      <th>job</th>\n",
       "      <th>liable</th>\n",
       "      <th>telephone</th>\n",
       "      <th>foreign</th>\n",
       "      <th>class</th>\n",
       "    </tr>\n",
       "  </thead>\n",
       "  <tbody>\n",
       "    <tr>\n",
       "      <th>0</th>\n",
       "      <td>0 &lt;= &lt;200 DM</td>\n",
       "      <td>48</td>\n",
       "      <td>existing credits paid</td>\n",
       "      <td>television</td>\n",
       "      <td>8.691315</td>\n",
       "      <td>&lt;100 DM</td>\n",
       "      <td>1&lt;= &lt; 4 years</td>\n",
       "      <td>2</td>\n",
       "      <td>female</td>\n",
       "      <td>none</td>\n",
       "      <td>...</td>\n",
       "      <td>real estate</td>\n",
       "      <td>3.091042</td>\n",
       "      <td>none</td>\n",
       "      <td>own</td>\n",
       "      <td>1</td>\n",
       "      <td>skilled employee / official</td>\n",
       "      <td>1</td>\n",
       "      <td>none</td>\n",
       "      <td>yes</td>\n",
       "      <td>2</td>\n",
       "    </tr>\n",
       "    <tr>\n",
       "      <th>1</th>\n",
       "      <td>0</td>\n",
       "      <td>12</td>\n",
       "      <td>critical account</td>\n",
       "      <td>education</td>\n",
       "      <td>7.647786</td>\n",
       "      <td>&lt;100 DM</td>\n",
       "      <td>4&lt;= &lt;7 years</td>\n",
       "      <td>2</td>\n",
       "      <td>male</td>\n",
       "      <td>none</td>\n",
       "      <td>...</td>\n",
       "      <td>real estate</td>\n",
       "      <td>3.891820</td>\n",
       "      <td>none</td>\n",
       "      <td>own</td>\n",
       "      <td>1</td>\n",
       "      <td>unskilled - resident</td>\n",
       "      <td>2</td>\n",
       "      <td>none</td>\n",
       "      <td>yes</td>\n",
       "      <td>1</td>\n",
       "    </tr>\n",
       "    <tr>\n",
       "      <th>2</th>\n",
       "      <td>&lt;0 DM</td>\n",
       "      <td>42</td>\n",
       "      <td>existing credits paid</td>\n",
       "      <td>furniture</td>\n",
       "      <td>8.972337</td>\n",
       "      <td>&lt;100 DM</td>\n",
       "      <td>4&lt;= &lt;7 years</td>\n",
       "      <td>2</td>\n",
       "      <td>male</td>\n",
       "      <td>guarantor</td>\n",
       "      <td>...</td>\n",
       "      <td>savings agreement/life insurance</td>\n",
       "      <td>3.806662</td>\n",
       "      <td>none</td>\n",
       "      <td>for free</td>\n",
       "      <td>1</td>\n",
       "      <td>skilled employee / official</td>\n",
       "      <td>2</td>\n",
       "      <td>none</td>\n",
       "      <td>yes</td>\n",
       "      <td>1</td>\n",
       "    </tr>\n",
       "    <tr>\n",
       "      <th>3</th>\n",
       "      <td>&lt;0 DM</td>\n",
       "      <td>24</td>\n",
       "      <td>delay in paying off</td>\n",
       "      <td>car-new</td>\n",
       "      <td>8.490849</td>\n",
       "      <td>&lt;100 DM</td>\n",
       "      <td>1&lt;= &lt; 4 years</td>\n",
       "      <td>3</td>\n",
       "      <td>male</td>\n",
       "      <td>none</td>\n",
       "      <td>...</td>\n",
       "      <td>unknown / no property</td>\n",
       "      <td>3.970292</td>\n",
       "      <td>none</td>\n",
       "      <td>for free</td>\n",
       "      <td>2</td>\n",
       "      <td>skilled employee / official</td>\n",
       "      <td>2</td>\n",
       "      <td>none</td>\n",
       "      <td>yes</td>\n",
       "      <td>2</td>\n",
       "    </tr>\n",
       "    <tr>\n",
       "      <th>4</th>\n",
       "      <td>0</td>\n",
       "      <td>36</td>\n",
       "      <td>existing credits paid</td>\n",
       "      <td>education</td>\n",
       "      <td>9.111072</td>\n",
       "      <td>no savings account</td>\n",
       "      <td>1&lt;= &lt; 4 years</td>\n",
       "      <td>2</td>\n",
       "      <td>male</td>\n",
       "      <td>none</td>\n",
       "      <td>...</td>\n",
       "      <td>unknown / no property</td>\n",
       "      <td>3.555348</td>\n",
       "      <td>none</td>\n",
       "      <td>for free</td>\n",
       "      <td>1</td>\n",
       "      <td>unskilled - resident</td>\n",
       "      <td>2</td>\n",
       "      <td>yes</td>\n",
       "      <td>yes</td>\n",
       "      <td>1</td>\n",
       "    </tr>\n",
       "  </tbody>\n",
       "</table>\n",
       "<p>5 rows × 21 columns</p>\n",
       "</div>"
      ],
      "text/plain": [
       "   checkAccount  duration          creditHistory     purpose  creditAmount  \\\n",
       "0  0 <= <200 DM        48  existing credits paid  television      8.691315   \n",
       "1             0        12       critical account   education      7.647786   \n",
       "2         <0 DM        42  existing credits paid   furniture      8.972337   \n",
       "3         <0 DM        24    delay in paying off     car-new      8.490849   \n",
       "4             0        36  existing credits paid   education      9.111072   \n",
       "\n",
       "              savings  employedSince  installmentRate statusSex otherDebtors  \\\n",
       "0             <100 DM  1<= < 4 years                2    female         none   \n",
       "1             <100 DM   4<= <7 years                2      male         none   \n",
       "2             <100 DM   4<= <7 years                2      male    guarantor   \n",
       "3             <100 DM  1<= < 4 years                3      male         none   \n",
       "4  no savings account  1<= < 4 years                2      male         none   \n",
       "\n",
       "   ...                          property       age  otherInstallment  \\\n",
       "0  ...                       real estate  3.091042              none   \n",
       "1  ...                       real estate  3.891820              none   \n",
       "2  ...  savings agreement/life insurance  3.806662              none   \n",
       "3  ...             unknown / no property  3.970292              none   \n",
       "4  ...             unknown / no property  3.555348              none   \n",
       "\n",
       "    housing existingCredits                          job liable  telephone  \\\n",
       "0       own               1  skilled employee / official      1       none   \n",
       "1       own               1         unskilled - resident      2       none   \n",
       "2  for free               1  skilled employee / official      2       none   \n",
       "3  for free               2  skilled employee / official      2       none   \n",
       "4  for free               1         unskilled - resident      2        yes   \n",
       "\n",
       "  foreign class  \n",
       "0     yes     2  \n",
       "1     yes     1  \n",
       "2     yes     1  \n",
       "3     yes     2  \n",
       "4     yes     1  \n",
       "\n",
       "[5 rows x 21 columns]"
      ]
     },
     "execution_count": 36,
     "metadata": {},
     "output_type": "execute_result"
    }
   ],
   "source": [
    " pd.options.mode.chained_assignment = None\n",
    "df_new[\"creditAmount\"] = np.log(df_new.creditAmount)\n",
    "df_new[\"age\"] = np.log(df_new.age)\n",
    "df_new.head()"
   ]
  },
  {
   "cell_type": "code",
   "execution_count": 37,
   "metadata": {
    "id": "EOwB5LanMC0C"
   },
   "outputs": [],
   "source": [
    "# extracting X and y\n",
    "\n",
    "y=df_new['class']\n",
    "X=df_new.drop(['class'], axis=1)"
   ]
  },
  {
   "cell_type": "code",
   "execution_count": 38,
   "metadata": {
    "colab": {
     "base_uri": "https://localhost:8080/",
     "height": 383
    },
    "id": "M3H8x7mBMC0D",
    "outputId": "4da55944-1b25-41f6-dcb3-ea8b18871bca"
   },
   "outputs": [
    {
     "data": {
      "text/html": [
       "<div>\n",
       "<style scoped>\n",
       "    .dataframe tbody tr th:only-of-type {\n",
       "        vertical-align: middle;\n",
       "    }\n",
       "\n",
       "    .dataframe tbody tr th {\n",
       "        vertical-align: top;\n",
       "    }\n",
       "\n",
       "    .dataframe thead th {\n",
       "        text-align: right;\n",
       "    }\n",
       "</style>\n",
       "<table border=\"1\" class=\"dataframe\">\n",
       "  <thead>\n",
       "    <tr style=\"text-align: right;\">\n",
       "      <th></th>\n",
       "      <th>checkAccount</th>\n",
       "      <th>duration</th>\n",
       "      <th>creditHistory</th>\n",
       "      <th>purpose</th>\n",
       "      <th>creditAmount</th>\n",
       "      <th>savings</th>\n",
       "      <th>employedSince</th>\n",
       "      <th>installmentRate</th>\n",
       "      <th>statusSex</th>\n",
       "      <th>otherDebtors</th>\n",
       "      <th>residenceSince</th>\n",
       "      <th>property</th>\n",
       "      <th>age</th>\n",
       "      <th>otherInstallment</th>\n",
       "      <th>housing</th>\n",
       "      <th>existingCredits</th>\n",
       "      <th>job</th>\n",
       "      <th>liable</th>\n",
       "      <th>telephone</th>\n",
       "      <th>foreign</th>\n",
       "    </tr>\n",
       "  </thead>\n",
       "  <tbody>\n",
       "    <tr>\n",
       "      <th>0</th>\n",
       "      <td>0 &lt;= &lt;200 DM</td>\n",
       "      <td>0.785714</td>\n",
       "      <td>existing credits paid</td>\n",
       "      <td>television</td>\n",
       "      <td>0.737184</td>\n",
       "      <td>&lt;100 DM</td>\n",
       "      <td>1&lt;= &lt; 4 years</td>\n",
       "      <td>0.333333</td>\n",
       "      <td>female</td>\n",
       "      <td>none</td>\n",
       "      <td>0.333333</td>\n",
       "      <td>real estate</td>\n",
       "      <td>0.106772</td>\n",
       "      <td>none</td>\n",
       "      <td>own</td>\n",
       "      <td>0.000000</td>\n",
       "      <td>skilled employee / official</td>\n",
       "      <td>0.0</td>\n",
       "      <td>none</td>\n",
       "      <td>yes</td>\n",
       "    </tr>\n",
       "    <tr>\n",
       "      <th>1</th>\n",
       "      <td>0</td>\n",
       "      <td>0.142857</td>\n",
       "      <td>critical account</td>\n",
       "      <td>education</td>\n",
       "      <td>0.494500</td>\n",
       "      <td>&lt;100 DM</td>\n",
       "      <td>4&lt;= &lt;7 years</td>\n",
       "      <td>0.333333</td>\n",
       "      <td>male</td>\n",
       "      <td>none</td>\n",
       "      <td>0.666667</td>\n",
       "      <td>real estate</td>\n",
       "      <td>0.689984</td>\n",
       "      <td>none</td>\n",
       "      <td>own</td>\n",
       "      <td>0.000000</td>\n",
       "      <td>unskilled - resident</td>\n",
       "      <td>1.0</td>\n",
       "      <td>none</td>\n",
       "      <td>yes</td>\n",
       "    </tr>\n",
       "    <tr>\n",
       "      <th>2</th>\n",
       "      <td>&lt;0 DM</td>\n",
       "      <td>0.678571</td>\n",
       "      <td>existing credits paid</td>\n",
       "      <td>furniture</td>\n",
       "      <td>0.802539</td>\n",
       "      <td>&lt;100 DM</td>\n",
       "      <td>4&lt;= &lt;7 years</td>\n",
       "      <td>0.333333</td>\n",
       "      <td>male</td>\n",
       "      <td>guarantor</td>\n",
       "      <td>1.000000</td>\n",
       "      <td>savings agreement/life insurance</td>\n",
       "      <td>0.627963</td>\n",
       "      <td>none</td>\n",
       "      <td>for free</td>\n",
       "      <td>0.000000</td>\n",
       "      <td>skilled employee / official</td>\n",
       "      <td>1.0</td>\n",
       "      <td>none</td>\n",
       "      <td>yes</td>\n",
       "    </tr>\n",
       "    <tr>\n",
       "      <th>3</th>\n",
       "      <td>&lt;0 DM</td>\n",
       "      <td>0.357143</td>\n",
       "      <td>delay in paying off</td>\n",
       "      <td>car-new</td>\n",
       "      <td>0.690564</td>\n",
       "      <td>&lt;100 DM</td>\n",
       "      <td>1&lt;= &lt; 4 years</td>\n",
       "      <td>0.666667</td>\n",
       "      <td>male</td>\n",
       "      <td>none</td>\n",
       "      <td>1.000000</td>\n",
       "      <td>unknown / no property</td>\n",
       "      <td>0.747135</td>\n",
       "      <td>none</td>\n",
       "      <td>for free</td>\n",
       "      <td>0.333333</td>\n",
       "      <td>skilled employee / official</td>\n",
       "      <td>1.0</td>\n",
       "      <td>none</td>\n",
       "      <td>yes</td>\n",
       "    </tr>\n",
       "    <tr>\n",
       "      <th>4</th>\n",
       "      <td>0</td>\n",
       "      <td>0.571429</td>\n",
       "      <td>existing credits paid</td>\n",
       "      <td>education</td>\n",
       "      <td>0.834803</td>\n",
       "      <td>no savings account</td>\n",
       "      <td>1&lt;= &lt; 4 years</td>\n",
       "      <td>0.333333</td>\n",
       "      <td>male</td>\n",
       "      <td>none</td>\n",
       "      <td>1.000000</td>\n",
       "      <td>unknown / no property</td>\n",
       "      <td>0.444929</td>\n",
       "      <td>none</td>\n",
       "      <td>for free</td>\n",
       "      <td>0.000000</td>\n",
       "      <td>unskilled - resident</td>\n",
       "      <td>1.0</td>\n",
       "      <td>yes</td>\n",
       "      <td>yes</td>\n",
       "    </tr>\n",
       "  </tbody>\n",
       "</table>\n",
       "</div>"
      ],
      "text/plain": [
       "   checkAccount  duration          creditHistory     purpose  creditAmount  \\\n",
       "0  0 <= <200 DM  0.785714  existing credits paid  television      0.737184   \n",
       "1             0  0.142857       critical account   education      0.494500   \n",
       "2         <0 DM  0.678571  existing credits paid   furniture      0.802539   \n",
       "3         <0 DM  0.357143    delay in paying off     car-new      0.690564   \n",
       "4             0  0.571429  existing credits paid   education      0.834803   \n",
       "\n",
       "              savings  employedSince  installmentRate statusSex otherDebtors  \\\n",
       "0             <100 DM  1<= < 4 years         0.333333    female         none   \n",
       "1             <100 DM   4<= <7 years         0.333333      male         none   \n",
       "2             <100 DM   4<= <7 years         0.333333      male    guarantor   \n",
       "3             <100 DM  1<= < 4 years         0.666667      male         none   \n",
       "4  no savings account  1<= < 4 years         0.333333      male         none   \n",
       "\n",
       "   residenceSince                          property       age  \\\n",
       "0        0.333333                       real estate  0.106772   \n",
       "1        0.666667                       real estate  0.689984   \n",
       "2        1.000000  savings agreement/life insurance  0.627963   \n",
       "3        1.000000             unknown / no property  0.747135   \n",
       "4        1.000000             unknown / no property  0.444929   \n",
       "\n",
       "  otherInstallment   housing  existingCredits                          job  \\\n",
       "0             none       own         0.000000  skilled employee / official   \n",
       "1             none       own         0.000000         unskilled - resident   \n",
       "2             none  for free         0.000000  skilled employee / official   \n",
       "3             none  for free         0.333333  skilled employee / official   \n",
       "4             none  for free         0.000000         unskilled - resident   \n",
       "\n",
       "   liable telephone foreign  \n",
       "0     0.0      none     yes  \n",
       "1     1.0      none     yes  \n",
       "2     1.0      none     yes  \n",
       "3     1.0      none     yes  \n",
       "4     1.0       yes     yes  "
      ]
     },
     "execution_count": 38,
     "metadata": {},
     "output_type": "execute_result"
    }
   ],
   "source": [
    "from sklearn.preprocessing import MinMaxScaler\n",
    "\n",
    "X_stand = X.copy()\n",
    "# apply standardization on numerical features\n",
    "for i in numvars:\n",
    "    \n",
    "    # fit on training data column\n",
    "    scale = MinMaxScaler().fit(X[[i]])\n",
    "    \n",
    "    # transform the training data column\n",
    "    X_stand[i] = scale.transform(X_stand[[i]])\n",
    "X_stand.head()"
   ]
  },
  {
   "cell_type": "code",
   "execution_count": 87,
   "metadata": {
    "colab": {
     "base_uri": "https://localhost:8080/",
     "height": 469
    },
    "id": "U-HrkH-VMC0D",
    "outputId": "d2d5c54a-b70e-45ae-812d-475dbd8460c8"
   },
   "outputs": [
    {
     "data": {
      "text/plain": [
       "<AxesSubplot:xlabel='job', ylabel='creditAmount'>"
      ]
     },
     "execution_count": 87,
     "metadata": {},
     "output_type": "execute_result"
    },
    {
     "data": {
      "image/png": "[encoded data removed]",
      "text/plain": [
       "<Figure size 432x432 with 1 Axes>"
      ]
     },
     "metadata": {},
     "output_type": "display_data"
    }
   ],
   "source": [
    "sns.boxplot(x= X_stand.job,y=X_stand.creditAmount)"
   ]
  },
  {
   "cell_type": "code",
   "execution_count": 40,
   "metadata": {
    "id": "FacEzEp2MC0D"
   },
   "outputs": [],
   "source": [
    "#following categories are ordinal, hence different encoding method would be applied on them\n",
    "ordinal = [\"checkAccount\", \"creditHistory\", \"savings\", \"employedSince\",\"otherDebtors\",\"property\",\n",
    "        \"otherInstallment\",\"housing\",\"job\"]\n",
    "\n",
    "#following attributes are nominal\n",
    "nominal = [\"statusSex\",\"purpose\",\"telephone\", \"foreign\"]"
   ]
  },
  {
   "cell_type": "code",
   "execution_count": 41,
   "metadata": {
    "id": "4C9ciBptMC0E"
   },
   "outputs": [],
   "source": [
    "#label encoding for ordinal data\n",
    "from sklearn.preprocessing import LabelEncoder\n",
    "from collections import defaultdict\n",
    "d = defaultdict(LabelEncoder)\n",
    "le = X_stand[ordinal].apply(lambda x: d[x.name].fit_transform(x))"
   ]
  },
  {
   "cell_type": "code",
   "execution_count": 42,
   "metadata": {
    "id": "SbHotOo4MC0E"
   },
   "outputs": [],
   "source": [
    "#one-hot encoding for nominal data\n",
    "dummyvars = pd.get_dummies(X_stand[nominal])"
   ]
  },
  {
   "cell_type": "code",
   "execution_count": 43,
   "metadata": {
    "colab": {
     "base_uri": "https://localhost:8080/",
     "height": 244
    },
    "id": "ZTpzrYZAMC0E",
    "outputId": "ce2dc0b4-4f7c-4a85-ddf3-ced205070f57"
   },
   "outputs": [
    {
     "data": {
      "text/html": [
       "<div>\n",
       "<style scoped>\n",
       "    .dataframe tbody tr th:only-of-type {\n",
       "        vertical-align: middle;\n",
       "    }\n",
       "\n",
       "    .dataframe tbody tr th {\n",
       "        vertical-align: top;\n",
       "    }\n",
       "\n",
       "    .dataframe thead th {\n",
       "        text-align: right;\n",
       "    }\n",
       "</style>\n",
       "<table border=\"1\" class=\"dataframe\">\n",
       "  <thead>\n",
       "    <tr style=\"text-align: right;\">\n",
       "      <th></th>\n",
       "      <th>duration</th>\n",
       "      <th>creditAmount</th>\n",
       "      <th>installmentRate</th>\n",
       "      <th>residenceSince</th>\n",
       "      <th>age</th>\n",
       "      <th>existingCredits</th>\n",
       "      <th>liable</th>\n",
       "      <th>checkAccount</th>\n",
       "      <th>creditHistory</th>\n",
       "      <th>savings</th>\n",
       "      <th>...</th>\n",
       "      <th>purpose_education</th>\n",
       "      <th>purpose_furniture</th>\n",
       "      <th>purpose_others</th>\n",
       "      <th>purpose_repairs</th>\n",
       "      <th>purpose_retraining</th>\n",
       "      <th>purpose_television</th>\n",
       "      <th>telephone_none</th>\n",
       "      <th>telephone_yes</th>\n",
       "      <th>foreign_no</th>\n",
       "      <th>foreign_yes</th>\n",
       "    </tr>\n",
       "  </thead>\n",
       "  <tbody>\n",
       "    <tr>\n",
       "      <th>0</th>\n",
       "      <td>0.785714</td>\n",
       "      <td>0.737184</td>\n",
       "      <td>0.333333</td>\n",
       "      <td>0.333333</td>\n",
       "      <td>0.106772</td>\n",
       "      <td>0.000000</td>\n",
       "      <td>0.0</td>\n",
       "      <td>1</td>\n",
       "      <td>3</td>\n",
       "      <td>2</td>\n",
       "      <td>...</td>\n",
       "      <td>0</td>\n",
       "      <td>0</td>\n",
       "      <td>0</td>\n",
       "      <td>0</td>\n",
       "      <td>0</td>\n",
       "      <td>1</td>\n",
       "      <td>1</td>\n",
       "      <td>0</td>\n",
       "      <td>0</td>\n",
       "      <td>1</td>\n",
       "    </tr>\n",
       "    <tr>\n",
       "      <th>1</th>\n",
       "      <td>0.142857</td>\n",
       "      <td>0.494500</td>\n",
       "      <td>0.333333</td>\n",
       "      <td>0.666667</td>\n",
       "      <td>0.689984</td>\n",
       "      <td>0.000000</td>\n",
       "      <td>1.0</td>\n",
       "      <td>0</td>\n",
       "      <td>1</td>\n",
       "      <td>2</td>\n",
       "      <td>...</td>\n",
       "      <td>1</td>\n",
       "      <td>0</td>\n",
       "      <td>0</td>\n",
       "      <td>0</td>\n",
       "      <td>0</td>\n",
       "      <td>0</td>\n",
       "      <td>1</td>\n",
       "      <td>0</td>\n",
       "      <td>0</td>\n",
       "      <td>1</td>\n",
       "    </tr>\n",
       "    <tr>\n",
       "      <th>2</th>\n",
       "      <td>0.678571</td>\n",
       "      <td>0.802539</td>\n",
       "      <td>0.333333</td>\n",
       "      <td>1.000000</td>\n",
       "      <td>0.627963</td>\n",
       "      <td>0.000000</td>\n",
       "      <td>1.0</td>\n",
       "      <td>2</td>\n",
       "      <td>3</td>\n",
       "      <td>2</td>\n",
       "      <td>...</td>\n",
       "      <td>0</td>\n",
       "      <td>1</td>\n",
       "      <td>0</td>\n",
       "      <td>0</td>\n",
       "      <td>0</td>\n",
       "      <td>0</td>\n",
       "      <td>1</td>\n",
       "      <td>0</td>\n",
       "      <td>0</td>\n",
       "      <td>1</td>\n",
       "    </tr>\n",
       "    <tr>\n",
       "      <th>3</th>\n",
       "      <td>0.357143</td>\n",
       "      <td>0.690564</td>\n",
       "      <td>0.666667</td>\n",
       "      <td>1.000000</td>\n",
       "      <td>0.747135</td>\n",
       "      <td>0.333333</td>\n",
       "      <td>1.0</td>\n",
       "      <td>2</td>\n",
       "      <td>2</td>\n",
       "      <td>2</td>\n",
       "      <td>...</td>\n",
       "      <td>0</td>\n",
       "      <td>0</td>\n",
       "      <td>0</td>\n",
       "      <td>0</td>\n",
       "      <td>0</td>\n",
       "      <td>0</td>\n",
       "      <td>1</td>\n",
       "      <td>0</td>\n",
       "      <td>0</td>\n",
       "      <td>1</td>\n",
       "    </tr>\n",
       "    <tr>\n",
       "      <th>4</th>\n",
       "      <td>0.571429</td>\n",
       "      <td>0.834803</td>\n",
       "      <td>0.333333</td>\n",
       "      <td>1.000000</td>\n",
       "      <td>0.444929</td>\n",
       "      <td>0.000000</td>\n",
       "      <td>1.0</td>\n",
       "      <td>0</td>\n",
       "      <td>3</td>\n",
       "      <td>4</td>\n",
       "      <td>...</td>\n",
       "      <td>1</td>\n",
       "      <td>0</td>\n",
       "      <td>0</td>\n",
       "      <td>0</td>\n",
       "      <td>0</td>\n",
       "      <td>0</td>\n",
       "      <td>0</td>\n",
       "      <td>1</td>\n",
       "      <td>0</td>\n",
       "      <td>1</td>\n",
       "    </tr>\n",
       "  </tbody>\n",
       "</table>\n",
       "<p>5 rows × 32 columns</p>\n",
       "</div>"
      ],
      "text/plain": [
       "   duration  creditAmount  installmentRate  residenceSince       age  \\\n",
       "0  0.785714      0.737184         0.333333        0.333333  0.106772   \n",
       "1  0.142857      0.494500         0.333333        0.666667  0.689984   \n",
       "2  0.678571      0.802539         0.333333        1.000000  0.627963   \n",
       "3  0.357143      0.690564         0.666667        1.000000  0.747135   \n",
       "4  0.571429      0.834803         0.333333        1.000000  0.444929   \n",
       "\n",
       "   existingCredits  liable  checkAccount  creditHistory  savings  ...  \\\n",
       "0         0.000000     0.0             1              3        2  ...   \n",
       "1         0.000000     1.0             0              1        2  ...   \n",
       "2         0.000000     1.0             2              3        2  ...   \n",
       "3         0.333333     1.0             2              2        2  ...   \n",
       "4         0.000000     1.0             0              3        4  ...   \n",
       "\n",
       "   purpose_education  purpose_furniture  purpose_others  purpose_repairs  \\\n",
       "0                  0                  0               0                0   \n",
       "1                  1                  0               0                0   \n",
       "2                  0                  1               0                0   \n",
       "3                  0                  0               0                0   \n",
       "4                  1                  0               0                0   \n",
       "\n",
       "   purpose_retraining  purpose_television  telephone_none  telephone_yes  \\\n",
       "0                   0                   1               1              0   \n",
       "1                   0                   0               1              0   \n",
       "2                   0                   0               1              0   \n",
       "3                   0                   0               1              0   \n",
       "4                   0                   0               0              1   \n",
       "\n",
       "   foreign_no  foreign_yes  \n",
       "0           0            1  \n",
       "1           0            1  \n",
       "2           0            1  \n",
       "3           0            1  \n",
       "4           0            1  \n",
       "\n",
       "[5 rows x 32 columns]"
      ]
     },
     "execution_count": 43,
     "metadata": {},
     "output_type": "execute_result"
    }
   ],
   "source": [
    "#concatenate transformed data\n",
    "clean_data = pd.concat([X_stand[numvars], le, dummyvars], axis = 1)\n",
    "clean_data.head()"
   ]
  },
  {
   "cell_type": "code",
   "execution_count": 44,
   "metadata": {
    "id": "KGQBj1fzMC0F"
   },
   "outputs": [],
   "source": [
    "# train-test split\n",
    "from sklearn.model_selection import train_test_split\n",
    "\n",
    "X_train, X_test, y_train, y_test = train_test_split(clean_data,y,test_size=0.2, random_state=1)"
   ]
  },
  {
   "cell_type": "code",
   "execution_count": 45,
   "metadata": {
    "colab": {
     "base_uri": "https://localhost:8080/"
    },
    "id": "FTz3U9YGMC0F",
    "outputId": "8a9a993b-cfd1-4a5b-8da7-ca5f3c9debff"
   },
   "outputs": [
    {
     "data": {
      "text/plain": [
       "(798, 32)"
      ]
     },
     "execution_count": 45,
     "metadata": {},
     "output_type": "execute_result"
    }
   ],
   "source": [
    "X_train.shape"
   ]
  },
  {
   "cell_type": "code",
   "execution_count": 46,
   "metadata": {
    "colab": {
     "base_uri": "https://localhost:8080/"
    },
    "id": "YPd5wWEEMC0F",
    "outputId": "b0e9ebfc-e528-4264-f676-5f283a8f2ddd"
   },
   "outputs": [
    {
     "data": {
      "text/plain": [
       "1    558\n",
       "2    240\n",
       "Name: class, dtype: int64"
      ]
     },
     "execution_count": 46,
     "metadata": {},
     "output_type": "execute_result"
    }
   ],
   "source": [
    "y_train.value_counts().head()"
   ]
  },
  {
   "cell_type": "markdown",
   "metadata": {},
   "source": [
    "## Applying Logistic Regression on the training data"
   ]
  },
  {
   "cell_type": "code",
   "execution_count": 68,
   "metadata": {},
   "outputs": [
    {
     "name": "stdout",
     "output_type": "stream",
     "text": [
      "[LibLinear]"
     ]
    }
   ],
   "source": [
    "from sklearn.linear_model import LogisticRegression\n",
    "LR = LogisticRegression(solver='liblinear', verbose=3, random_state=0, max_iter=10000).fit(X_train, y_train)"
   ]
  },
  {
   "cell_type": "code",
   "execution_count": 69,
   "metadata": {},
   "outputs": [
    {
     "data": {
      "text/plain": [
       "0.715"
      ]
     },
     "execution_count": 69,
     "metadata": {},
     "output_type": "execute_result"
    }
   ],
   "source": [
    "LR.score(X_test, y_test)"
   ]
  },
  {
   "cell_type": "code",
   "execution_count": 70,
   "metadata": {},
   "outputs": [
    {
     "data": {
      "text/plain": [
       "0.72"
      ]
     },
     "execution_count": 70,
     "metadata": {},
     "output_type": "execute_result"
    }
   ],
   "source": [
    "LR = LogisticRegression(max_iter=10000).fit(X_train, y_train)\n",
    "LR.score(X_test, y_test)"
   ]
  },
  {
   "cell_type": "markdown",
   "metadata": {},
   "source": [
    "## Applying ANN on the training data"
   ]
  },
  {
   "cell_type": "markdown",
   "metadata": {},
   "source": [
    "Relu activation gave more accuracy"
   ]
  },
  {
   "cell_type": "code",
   "execution_count": 65,
   "metadata": {},
   "outputs": [],
   "source": [
    "from sklearn.neural_network import MLPClassifier\n",
    "ann = MLPClassifier(random_state=1, max_iter=10000).fit(X_train, y_train)"
   ]
  },
  {
   "cell_type": "code",
   "execution_count": 66,
   "metadata": {},
   "outputs": [
    {
     "data": {
      "text/plain": [
       "0.725"
      ]
     },
     "execution_count": 66,
     "metadata": {},
     "output_type": "execute_result"
    }
   ],
   "source": [
    "ann.score(X_test, y_test)"
   ]
  },
  {
   "cell_type": "code",
   "execution_count": 73,
   "metadata": {},
   "outputs": [
    {
     "data": {
      "text/plain": [
       "0.715"
      ]
     },
     "execution_count": 73,
     "metadata": {},
     "output_type": "execute_result"
    }
   ],
   "source": [
    "ann = MLPClassifier(random_state=1, max_iter=10000, \n",
    "                    activation = 'logistic', learning_rate='adaptive').fit(\n",
    "                    X_train, y_train)\n",
    "ann.score(X_test, y_test)"
   ]
  }
 ],
 "metadata": {
  "accelerator": "GPU",
  "colab": {
   "collapsed_sections": [],
   "name": "GermanData.ipynb",
   "provenance": [],
   "toc_visible": true
  },
  "kernelspec": {
   "display_name": "Python 3",
   "language": "python",
   "name": "python3"
  },
  "language_info": {
   "codemirror_mode": {
    "name": "ipython",
    "version": 3
   },
   "file_extension": ".py",
   "mimetype": "text/x-python",
   "name": "python",
   "nbconvert_exporter": "python",
   "pygments_lexer": "ipython3",
   "version": "3.8.8"
  }
 },
 "nbformat": 4,
 "nbformat_minor": 1
}
